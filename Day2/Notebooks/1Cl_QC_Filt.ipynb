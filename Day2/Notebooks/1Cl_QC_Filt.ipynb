{
 "cells": [
  {
   "cell_type": "markdown",
   "metadata": {
    "extensions": {
     "jupyter_dashboards": {
      "version": 1,
      "views": {
       "grid_default": {
        "col": 0,
        "height": 4,
        "hidden": false,
        "row": 0,
        "width": 4
       },
       "report_default": {}
      }
     }
    },
    "tags": []
   },
   "source": [
    "# Mid-gestation fetal cortex dataset: QC and Filtering\n",
    "\n",
    "\n",
    "\n",
    "_**Single cell transcriptomics dataset from paper published by Polioudakis et al. (Geschwind lab, Neuron 2019) characterizing human fetal cortex at mid-gestation**._\n",
    "\n",
    "\n",
    "<nav> <b> References: </b>\n",
    "\n",
    "<a href=\"https://www.ncbi.nlm.nih.gov/pmc/articles/PMC6831089/#SD1\"> Paper </a> \n",
    "    \n",
    "<a href=\"http://solo.bmap.ucla.edu/shiny/webapp/\">CoDEx Viewer </a> \n",
    " </nav>"
   ]
  },
  {
   "cell_type": "markdown",
   "metadata": {},
   "source": [
    "<img src=\"https://www.cell.com/cms/attachment/1d932d66-fe94-4d36-abec-b4949f92ae61/fx1.jpg\" width=\"500\">"
   ]
  },
  {
   "cell_type": "markdown",
   "metadata": {
    "extensions": {
     "jupyter_dashboards": {
      "version": 1,
      "views": {
       "grid_default": {
        "col": 0,
        "height": 4,
        "hidden": false,
        "row": 0,
        "width": 4
       },
       "report_default": {}
      }
     }
    }
   },
   "source": [
    "> Mehtodological approach: Fetal cortical speciments at mid-gestation (gestation week (GW) 17 to 18): germinal zones, developing cortical laminae containing migrating and newly born neurons. To optimize detection of distinct cell types, **prior to single-cell isolation** cortex was separated into:\n",
    ">- the germinal zones [ventricular zone (VZ) and subventricular zone (SVZ)\n",
    ">- developing cortex [subplate (SP) and cortical plate (CP)] \n",
    "\n",
    "\n",
    "- Sequencing method: **Drop-seq** (Macosko et al., 2015)\n",
    "- Obtained number of cells: **~40,000**"
   ]
  },
  {
   "cell_type": "markdown",
   "metadata": {},
   "source": [
    "-----"
   ]
  },
  {
   "cell_type": "markdown",
   "metadata": {
    "extensions": {
     "jupyter_dashboards": {
      "version": 1,
      "views": {
       "grid_default": {
        "col": 4,
        "height": 4,
        "hidden": false,
        "row": 0,
        "width": 4
       },
       "report_default": {}
      }
     }
    }
   },
   "source": [
    "# 1. Environment"
   ]
  },
  {
   "cell_type": "markdown",
   "metadata": {},
   "source": [
    "## 1.1 Libraries"
   ]
  },
  {
   "cell_type": "code",
   "execution_count": null,
   "metadata": {
    "extensions": {
     "jupyter_dashboards": {
      "version": 1,
      "views": {
       "grid_default": {
        "col": 8,
        "height": 4,
        "hidden": false,
        "row": 0,
        "width": 4
       },
       "report_default": {}
      }
     }
    }
   },
   "outputs": [],
   "source": [
    "import numpy as np\n",
    "import pandas as pd\n",
    "import igraph as ig\n",
    "import scanpy as sc\n",
    "import scanpy.external as sce\n",
    "from scipy.sparse import csr_matrix, isspmatrix\n",
    "\n",
    "#Plotting\n",
    "import matplotlib.pyplot as plt\n",
    "import seaborn as sns\n",
    "\n",
    "#ultils\n",
    "from datetime import datetime"
   ]
  },
  {
   "cell_type": "code",
   "execution_count": null,
   "metadata": {
    "extensions": {
     "jupyter_dashboards": {
      "version": 1,
      "views": {
       "grid_default": {
        "col": 8,
        "height": 4,
        "hidden": false,
        "row": 0,
        "width": 4
       },
       "report_default": {}
      }
     }
    }
   },
   "outputs": [],
   "source": [
    "sc.logging.print_header()"
   ]
  },
  {
   "cell_type": "markdown",
   "metadata": {
    "extensions": {
     "jupyter_dashboards": {
      "version": 1,
      "views": {
       "grid_default": {
        "col": 0,
        "height": 5,
        "hidden": false,
        "row": 12,
        "width": 12
       },
       "report_default": {}
      }
     }
    }
   },
   "source": [
    "## 1.2 Settings\n",
    "\n",
    "* Scanpy verbosity\n",
    "* Figure size    \n",
    "* Result file: the file that will store the analysis results"
   ]
  },
  {
   "cell_type": "code",
   "execution_count": null,
   "metadata": {
    "extensions": {
     "jupyter_dashboards": {
      "version": 1,
      "views": {
       "grid_default": {
        "hidden": true
       },
       "report_default": {}
      }
     }
    }
   },
   "outputs": [],
   "source": [
    "sc.settings.verbosity = 3\n",
    "sc.settings.set_figure_params(dpi=80)"
   ]
  },
  {
   "cell_type": "markdown",
   "metadata": {},
   "source": [
    "## 1.3 Custom Plotting Functions"
   ]
  },
  {
   "cell_type": "code",
   "execution_count": null,
   "metadata": {},
   "outputs": [],
   "source": [
    "def densityQCs(adataObj, hue=None):   \n",
    "    #Plot them in line so they take up less space\n",
    "    fig, ax = plt.subplots(1, 4, figsize=(20,5))\n",
    "    fig.tight_layout(pad=2)   #space between plots\n",
    "    \n",
    "    if hue != None:\n",
    "        hue_s = adata.obs[hue].astype('string')\n",
    "    else:\n",
    "        hue_s = None\n",
    "\n",
    "    ### Genes ---------------\n",
    "    d1 = sns.kdeplot(np.log10(adataObj.obs['n_genes_by_counts']), fill=True, color='cornflowerblue', hue=hue_s, ax=ax[0])\n",
    "    min_x, max_x = d1.get_xlim() \n",
    "\n",
    "    #Threshold lines and fill\n",
    "    if MIN_GENES != None:\n",
    "        d1.axvline(np.log10(MIN_GENES), 0, 1, c='red')  #set manually for chosen threshold\n",
    "        d1.axvspan(min_x, np.log10(MIN_GENES), alpha=0.2, color='red')\n",
    "    if MAX_GENES != None:\n",
    "        d1.axvline(np.log10(MAX_GENES), c='red')\n",
    "        d1.axvspan(np.log10(MAX_GENES), max_x, alpha=0.2, color='red')\n",
    "\n",
    "    ### UMI ---------------\n",
    "    d2 = sns.kdeplot(np.log10(adataObj.obs['total_counts']), fill=True, color='forestgreen', hue=hue_s, ax=ax[1])\n",
    "    min_x, max_x = d2.get_xlim() \n",
    "        \n",
    "    if MIN_COUNTS != None:\n",
    "        d2.axvline(np.log10(MIN_COUNTS), 0, 1, c='red')  #set manually for chosen threshold\n",
    "        d2.axvspan(min_x, np.log10(MIN_COUNTS), alpha=0.2, color='red')\n",
    "    if MAX_COUNTS != None:\n",
    "        d2.axvline(np.log10(MAX_COUNTS), c='red')\n",
    "        d2.axvspan(np.log10(MAX_COUNTS), max_x, alpha=0.2, color='red')\n",
    "\n",
    "    ### Mito % ---------------\n",
    "    d3 = sns.kdeplot(adataObj.obs['pct_counts_mito'], fill=True, color='coral', hue=hue_s, ax=ax[2])\n",
    "    min_x, max_x = d3.get_xlim() \n",
    "\n",
    "    #Threshold lines and fill\n",
    "    if MT_PERCENTAGE != None:\n",
    "        d3.axvline(MT_PERCENTAGE, 0, 1, c='red')  #set manually for chosen threshold\n",
    "        d3.axvspan(MT_PERCENTAGE, max_x, alpha=0.2, color='red')\n",
    "\n",
    "\n",
    "    ### Ribo % ---------------\n",
    "    d4 = sns.kdeplot(adataObj.obs['pct_counts_ribo'], fill=True, color='orchid', hue=hue_s, ax=ax[3])\n",
    "    min_x, max_x = d4.get_xlim() \n",
    "    #ax[3].legend(loc='center left', bbox_to_anchor=(1.0, 1.0)) #upper right\n",
    "    \n",
    "    #Threshold lines and fill\n",
    "    if MT_PERCENTAGE != None:\n",
    "        d4.axvline(RB_PERCENTAGE, 0, 1, c='red')  #set manually for chosen threshold\n",
    "        d4.axvspan(RB_PERCENTAGE, max_x, alpha=0.2, color='red')\n",
    "    \n",
    "    #Remove additional legends at need\n",
    "    if hue != None:\n",
    "        ax[0].get_legend().remove()\n",
    "        ax[1].get_legend().remove()\n",
    "        ax[2].get_legend().remove()\n",
    "        \n",
    "    # Remove all borders\n",
    "    sns.despine(bottom = False, left = True)"
   ]
  },
  {
   "cell_type": "markdown",
   "metadata": {},
   "source": [
    "## 1.4 Results File"
   ]
  },
  {
   "cell_type": "code",
   "execution_count": null,
   "metadata": {
    "extensions": {
     "jupyter_dashboards": {
      "version": 1,
      "views": {
       "grid_default": {
        "hidden": true
       },
       "report_default": {}
      }
     }
    }
   },
   "outputs": [],
   "source": [
    "#results_file = '/home/..../brainomics/Data/1_AdataFilt.h5ad'"
   ]
  },
  {
   "cell_type": "markdown",
   "metadata": {},
   "source": [
    "----"
   ]
  },
  {
   "cell_type": "markdown",
   "metadata": {
    "extensions": {
     "jupyter_dashboards": {
      "version": 1,
      "views": {
       "grid_default": {
        "col": 0,
        "height": 4,
        "hidden": false,
        "row": 17,
        "width": 4
       },
       "report_default": {}
      }
     }
    },
    "tags": []
   },
   "source": [
    "# 2. Data Load\n",
    "\n",
    "> Data are already structured as ann AnnData Object. \n",
    "> Anndata stores: \n",
    "> 1. a data matrix __(adata.X)__ \n",
    "> 2. dataframe-like annotation of observations __(adata.obs)__ and variables __(adata.var)__ \n",
    "> 3. unstructured dict-like annotation __(adata.uns)__. \n",
    "\n",
    "\n",
    "<nav> <b> References: </b>\n",
    "\n",
    "<a href=\"https://anndata.readthedocs.io/en/latest/\"> Anndata ReadTheDocs </a> \n",
    " </nav>\n",
    "\n"
   ]
  },
  {
   "cell_type": "markdown",
   "metadata": {},
   "source": [
    "<img src=\"https://anndata.readthedocs.io/en/latest/_images/anndata_schema.svg\" width=\"650\">"
   ]
  },
  {
   "cell_type": "markdown",
   "metadata": {
    "extensions": {
     "jupyter_dashboards": {
      "version": 1,
      "views": {
       "grid_default": {
        "col": 0,
        "height": 8,
        "hidden": false,
        "row": 21,
        "width": 12
       },
       "report_default": {}
      }
     }
    }
   },
   "source": [
    "## 2.1 Read adata file"
   ]
  },
  {
   "cell_type": "code",
   "execution_count": null,
   "metadata": {},
   "outputs": [],
   "source": [
    "adata = sc.read('/group/brainomics/course_material/Day2/data/0_AdataStart.h5ad')"
   ]
  },
  {
   "cell_type": "markdown",
   "metadata": {
    "extensions": {
     "jupyter_dashboards": {
      "version": 1,
      "views": {
       "grid_default": {
        "col": 0,
        "height": 6,
        "hidden": false,
        "row": 74,
        "width": 12
       },
       "report_default": {}
      }
     }
    }
   },
   "source": [
    "## 2.2 Explore Adata"
   ]
  },
  {
   "cell_type": "code",
   "execution_count": null,
   "metadata": {},
   "outputs": [],
   "source": [
    "adata"
   ]
  },
  {
   "cell_type": "markdown",
   "metadata": {},
   "source": [
    "### A. __Count Matrix__\n",
    "Stores the matrix of values: expression value of each gene in each cell."
   ]
  },
  {
   "cell_type": "code",
   "execution_count": null,
   "metadata": {},
   "outputs": [],
   "source": [
    "adata.X"
   ]
  },
  {
   "cell_type": "code",
   "execution_count": null,
   "metadata": {},
   "outputs": [],
   "source": [
    "print(adata[:10, :2].X)"
   ]
  },
  {
   "cell_type": "code",
   "execution_count": null,
   "metadata": {},
   "outputs": [],
   "source": [
    "adata.X.toarray()[:10, :10] #so see it more matrix like"
   ]
  },
  {
   "cell_type": "code",
   "execution_count": null,
   "metadata": {},
   "outputs": [],
   "source": [
    "# To store the values in a new object\n",
    "ACTB_counts = adata[:,['ACTB']].X\n",
    "ACTB_counts"
   ]
  },
  {
   "cell_type": "code",
   "execution_count": null,
   "metadata": {},
   "outputs": [],
   "source": [
    "print(ACTB_counts[:10,])"
   ]
  },
  {
   "cell_type": "markdown",
   "metadata": {
    "extensions": {
     "jupyter_dashboards": {
      "version": 1,
      "views": {
       "grid_default": {
        "col": 0,
        "height": 4,
        "hidden": false,
        "row": 80,
        "width": 4
       },
       "report_default": {}
      }
     }
    }
   },
   "source": [
    "### B. __Cell metadata__\n",
    "Adata.obs stores the metadata about the observations: cells (rows of the expression matrix). "
   ]
  },
  {
   "cell_type": "markdown",
   "metadata": {},
   "source": [
    "__Check number and names of cells__"
   ]
  },
  {
   "cell_type": "code",
   "execution_count": null,
   "metadata": {},
   "outputs": [],
   "source": [
    "print('Initial number of cells:', adata.n_obs)"
   ]
  },
  {
   "cell_type": "code",
   "execution_count": null,
   "metadata": {},
   "outputs": [],
   "source": [
    "print('Cell names: ', adata.obs_names[:10].tolist())"
   ]
  },
  {
   "cell_type": "markdown",
   "metadata": {},
   "source": [
    "__Check cell metadata__"
   ]
  },
  {
   "cell_type": "code",
   "execution_count": null,
   "metadata": {},
   "outputs": [],
   "source": [
    "print('Available metadata for each cell: ', adata.obs.columns)"
   ]
  },
  {
   "cell_type": "code",
   "execution_count": null,
   "metadata": {
    "extensions": {
     "jupyter_dashboards": {
      "version": 1,
      "views": {
       "grid_default": {
        "col": 0,
        "height": 6,
        "hidden": false,
        "row": 84,
        "width": 12
       },
       "report_default": {}
      }
     }
    }
   },
   "outputs": [],
   "source": [
    "adata.obs[:5]"
   ]
  },
  {
   "cell_type": "markdown",
   "metadata": {
    "extensions": {
     "jupyter_dashboards": {
      "version": 1,
      "views": {
       "grid_default": {
        "col": 4,
        "height": 4,
        "hidden": false,
        "row": 80,
        "width": 4
       },
       "report_default": {}
      }
     }
    }
   },
   "source": [
    "### C. __Gene metadata__\n",
    "\n",
    "Adata.var stores the metadata about features: genes (columns of the expression matrix). "
   ]
  },
  {
   "cell_type": "code",
   "execution_count": null,
   "metadata": {
    "extensions": {
     "jupyter_dashboards": {
      "version": 1,
      "views": {
       "grid_default": {
        "col": 4,
        "height": 6,
        "hidden": false,
        "row": 90,
        "width": 4
       },
       "report_default": {}
      }
     }
    }
   },
   "outputs": [],
   "source": [
    "adata.var[:5]"
   ]
  },
  {
   "cell_type": "markdown",
   "metadata": {},
   "source": [
    "__Check number and names of genes__"
   ]
  },
  {
   "cell_type": "code",
   "execution_count": null,
   "metadata": {
    "extensions": {
     "jupyter_dashboards": {
      "version": 1,
      "views": {
       "grid_default": {
        "col": 8,
        "height": 5,
        "hidden": false,
        "row": 90,
        "width": 4
       },
       "report_default": {}
      }
     }
    }
   },
   "outputs": [],
   "source": [
    "print('Initial number of genes:', adata.n_vars)"
   ]
  },
  {
   "cell_type": "code",
   "execution_count": null,
   "metadata": {
    "extensions": {
     "jupyter_dashboards": {
      "version": 1,
      "views": {
       "grid_default": {
        "col": 8,
        "height": 5,
        "hidden": false,
        "row": 90,
        "width": 4
       },
       "report_default": {}
      }
     }
    }
   },
   "outputs": [],
   "source": [
    "print('Gene names: ', adata.var_names[:10].tolist())"
   ]
  },
  {
   "cell_type": "markdown",
   "metadata": {},
   "source": [
    "__Check gene metadata__"
   ]
  },
  {
   "cell_type": "code",
   "execution_count": null,
   "metadata": {
    "extensions": {
     "jupyter_dashboards": {
      "version": 1,
      "views": {
       "grid_default": {
        "col": 8,
        "height": 5,
        "hidden": false,
        "row": 90,
        "width": 4
       },
       "report_default": {}
      }
     }
    }
   },
   "outputs": [],
   "source": [
    "# To see the gene metadata (information available for each gene)  \n",
    "print('Available metadata for each gene: ', adata.var.columns)"
   ]
  },
  {
   "cell_type": "markdown",
   "metadata": {
    "extensions": {
     "jupyter_dashboards": {
      "version": 1,
      "views": {
       "grid_default": {
        "col": 8,
        "height": 4,
        "hidden": false,
        "row": 80,
        "width": 4
       },
       "report_default": {}
      }
     }
    }
   },
   "source": [
    "## 2.3 Explore metadata"
   ]
  },
  {
   "cell_type": "markdown",
   "metadata": {},
   "source": [
    "### A. __Donors__\n",
    "\n",
    "> Samples processed for Dropseq were obtained from 4 donors:\n",
    ">\n",
    "> - 3 females (2 GW17, 1 GW18);\n",
    "> - 1 male (GW18)"
   ]
  },
  {
   "cell_type": "code",
   "execution_count": null,
   "metadata": {},
   "outputs": [],
   "source": [
    "adata.obs.Donor = adata.obs.Donor.astype('int').astype('category')"
   ]
  },
  {
   "cell_type": "code",
   "execution_count": null,
   "metadata": {},
   "outputs": [],
   "source": [
    "adata.obs['Donor'].value_counts().plot.bar(color=['#279e68', '#d62728', '#ff7f0e', '#1f77b4']) "
   ]
  },
  {
   "cell_type": "markdown",
   "metadata": {},
   "source": [
    "### B. __Gestational Week__"
   ]
  },
  {
   "cell_type": "code",
   "execution_count": null,
   "metadata": {
    "extensions": {
     "jupyter_dashboards": {
      "version": 1,
      "views": {
       "grid_default": {
        "col": 4,
        "height": 4,
        "hidden": false,
        "row": 96,
        "width": 4
       },
       "report_default": {}
      }
     }
    }
   },
   "outputs": [],
   "source": [
    "adata.obs['Gestation_week'].value_counts()"
   ]
  },
  {
   "cell_type": "code",
   "execution_count": null,
   "metadata": {
    "extensions": {
     "jupyter_dashboards": {
      "version": 1,
      "views": {
       "grid_default": {
        "col": 8,
        "height": 12,
        "hidden": false,
        "row": 99,
        "width": 4
       },
       "report_default": {}
      }
     }
    }
   },
   "outputs": [],
   "source": [
    "adata.obs['Gestation_week'].value_counts().plot.bar(color=['limegreen', 'orange'])"
   ]
  },
  {
   "cell_type": "markdown",
   "metadata": {},
   "source": [
    "### C. __Layer__\n",
    "\n",
    ">Coronal sections were prepared from fetal cortices. The coronal sections were then **further dissected** at the intermediate zone (IZ) to divide them into two regions: germinal zones (GZ) and developing cortex (CP). Following dissection, **GZ and CP sections were separately dissociated**."
   ]
  },
  {
   "cell_type": "code",
   "execution_count": null,
   "metadata": {},
   "outputs": [],
   "source": [
    "adata.obs['Layer'].value_counts()"
   ]
  },
  {
   "cell_type": "code",
   "execution_count": null,
   "metadata": {},
   "outputs": [],
   "source": [
    "adata.obs['Layer'].value_counts().plot.bar(color=['magenta', 'turquoise'])"
   ]
  },
  {
   "cell_type": "markdown",
   "metadata": {},
   "source": [
    "### D. __Clusters__"
   ]
  },
  {
   "cell_type": "code",
   "execution_count": null,
   "metadata": {},
   "outputs": [],
   "source": [
    "adata.obs['Cluster'].value_counts()"
   ]
  },
  {
   "cell_type": "code",
   "execution_count": null,
   "metadata": {},
   "outputs": [],
   "source": [
    "adata.obs['Cluster'].value_counts().plot.barh()"
   ]
  },
  {
   "cell_type": "markdown",
   "metadata": {},
   "source": [
    "<div class=\"alert alert-block alert-info\"><b>Cell populations identified by the authors:</b> \n",
    "\n",
    "* Cycling Progenitor S (PgS)\n",
    "* Cycling Progenitor G2/M (PgG2M)\n",
    "* Vetricular Radial Glia (vRG)\n",
    "* Outer Radial Glia (oRG)\n",
    "* Intermediate Progenitor (IP)\n",
    "* Migrating Excitatory (ExN)\n",
    "* Maturing Excitatory (ExM)\n",
    "* Maturing Excitatory upper enriched (ExM-U)\n",
    "* Excitatory Deep Layer 1 (ExDp1)\n",
    "* Excitatory Deep Layer 2 (ExDp2)\n",
    "* Interneuron MGE (InMGE)\n",
    "* Interneuron CGE (InCGE)\n",
    "* Oligodendrocyte Progenitor (OPC)\n",
    "* Microglia (Mic)\n",
    "* Pericytes (Per)\n",
    "* Endothelia (End)\n",
    "    "
   ]
  },
  {
   "cell_type": "markdown",
   "metadata": {},
   "source": [
    "<img src=\"http://solo.bmap.ucla.edu/shiny/webapp/img/cell_types_layers.png\" width=\"550\">"
   ]
  },
  {
   "cell_type": "markdown",
   "metadata": {},
   "source": [
    "----"
   ]
  },
  {
   "cell_type": "markdown",
   "metadata": {
    "extensions": {
     "jupyter_dashboards": {
      "version": 1,
      "views": {
       "grid_default": {
        "col": 4,
        "height": 4,
        "hidden": false,
        "row": 104,
        "width": 4
       },
       "report_default": {}
      }
     }
    }
   },
   "source": [
    "# 3. Top-expressed genes\n",
    "The plot shows those genes that yield the highest fraction of counts in each single cells, across all cells."
   ]
  },
  {
   "cell_type": "code",
   "execution_count": null,
   "metadata": {
    "extensions": {
     "jupyter_dashboards": {
      "version": 1,
      "views": {
       "grid_default": {
        "col": 4,
        "height": 15,
        "hidden": false,
        "row": 108,
        "width": 4
       },
       "report_default": {}
      }
     }
    }
   },
   "outputs": [],
   "source": [
    "sc.pl.highest_expr_genes(adata, n_top=20)"
   ]
  },
  {
   "cell_type": "markdown",
   "metadata": {},
   "source": [
    "----"
   ]
  },
  {
   "cell_type": "markdown",
   "metadata": {
    "extensions": {
     "jupyter_dashboards": {
      "version": 1,
      "views": {
       "grid_default": {
        "col": 0,
        "height": 8,
        "hidden": false,
        "row": 123,
        "width": 12
       },
       "report_default": {}
      }
     }
    },
    "tags": []
   },
   "source": [
    "# 4. Quality Check\n",
    "\n",
    "__Evaluate metrics related to quality as preliminary step for filtering.__ \n",
    "\n",
    "* __Mitochondrial gene counts:__ high proportions are indicative of poor-quality cells, related to loss of cytoplasmic RNA from perforated cells: mitochondrial transcripts are protected by mitochondrial membrane and therefore less likely to escape through tears in the cell membrane. \n",
    "* __Ribosomal Protein gene counts:__ high proportion are indicative of a shallow sequencing, because very highly expressed genes occupy most of the reads\n",
    "* __Number of genes:__ related to sequencing depth/quality\n",
    "* __Number of UMI counts for each gene:__ gene-wise sum of UMI counts (in all the cells) \n",
    "\n",
    "\n"
   ]
  },
  {
   "cell_type": "markdown",
   "metadata": {
    "extensions": {
     "jupyter_dashboards": {
      "version": 1,
      "views": {
       "grid_default": {
        "col": 0,
        "height": 4,
        "hidden": false,
        "row": 115,
        "width": 4
       },
       "report_default": {}
      }
     }
    }
   },
   "source": [
    "<div class=\"alert alert-block alert-info\"><b> NOTE: </b> Thresholds defined below are first showed on diagnostic plots and then applied in the filtering step. \n",
    "    You can inspect and change them iteratively until you are satisfied by the results. \n",
    "</div>"
   ]
  },
  {
   "cell_type": "markdown",
   "metadata": {},
   "source": [
    "### Filtering thresholds\n",
    "#### **Cell Filtering**"
   ]
  },
  {
   "cell_type": "code",
   "execution_count": null,
   "metadata": {
    "extensions": {
     "jupyter_dashboards": {
      "version": 1,
      "views": {
       "grid_default": {
        "hidden": true
       },
       "report_default": {}
      }
     }
    }
   },
   "outputs": [],
   "source": [
    "#Cell filtering\n",
    "MIN_GENES = 500\n",
    "MAX_GENES = 5000\n",
    "\n",
    "MIN_COUNTS= 750\n",
    "MAX_COUNTS= 10000\n",
    "\n",
    "MT_PERCENTAGE = 5\n",
    "RB_PERCENTAGE = 20"
   ]
  },
  {
   "cell_type": "markdown",
   "metadata": {},
   "source": [
    "#### **Gene Filtering**\n",
    "We want to discard genes that are too lowly expressed and thus not informative.  \n",
    "\n",
    "A good approach is to keep genes that are expressed in at least _min_cells_. We identify this minimum number based on the total number of cells in the dataset, selecting around 0.5% of the total fraction of cells"
   ]
  },
  {
   "cell_type": "code",
   "execution_count": null,
   "metadata": {
    "extensions": {
     "jupyter_dashboards": {
      "version": 1,
      "views": {
       "grid_default": {
        "hidden": true
       },
       "report_default": {}
      }
     }
    }
   },
   "outputs": [],
   "source": [
    "#Gene Filtering\n",
    "MIN_CELLS = np.rint((adata.n_obs*0.5)/100) # Filtering genes on minimum cells: 0.5%\n",
    "MIN_CELLS "
   ]
  },
  {
   "cell_type": "markdown",
   "metadata": {
    "extensions": {
     "jupyter_dashboards": {
      "version": 1,
      "views": {
       "grid_default": {
        "col": 0,
        "height": 4,
        "hidden": false,
        "row": 115,
        "width": 4
       },
       "report_default": {}
      }
     }
    }
   },
   "source": [
    "<div class=\"alert alert-block alert-warning\"><b>FOOD for THOUGHTS:</b>\n",
    "to be more stringent on gene filtering, the minimum number of cells may be set <b> after </b> filtering low quality cells. \n",
    "\n",
    "It is convenient especially when starting from a very high number of cells and a lot of them are discarded, as setting the thresholds before filtering may keep some genes even with very few counts in the remaining cells.\n",
    "</div>"
   ]
  },
  {
   "cell_type": "markdown",
   "metadata": {
    "extensions": {
     "jupyter_dashboards": {
      "version": 1,
      "views": {
       "grid_default": {
        "col": 0,
        "height": 4,
        "hidden": false,
        "row": 131,
        "width": 12
       },
       "report_default": {}
      }
     }
    }
   },
   "source": [
    "### 4.1 Identify Mitocondrial and Ribosomal genes\n",
    "**The string based selection is not completely accurate** because it can also include genes that are not mitocondrial/ribosomal but share the string used for the selection. \n",
    "\n",
    "It should be anyway a good enough approximation for our purposes.\n"
   ]
  },
  {
   "cell_type": "markdown",
   "metadata": {
    "extensions": {
     "jupyter_dashboards": {
      "version": 1,
      "views": {
       "grid_default": {
        "col": 0,
        "height": 4,
        "hidden": false,
        "row": 115,
        "width": 4
       },
       "report_default": {}
      }
     }
    }
   },
   "source": [
    "<div class=\"alert alert-block alert-info\"><b>NOTE:</b>\n",
    "    Metadata already contains mito % etc, we recompute them and check if they are coherent.\n",
    "</div>"
   ]
  },
  {
   "cell_type": "code",
   "execution_count": null,
   "metadata": {
    "extensions": {
     "jupyter_dashboards": {
      "version": 1,
      "views": {
       "grid_default": {
        "col": 8,
        "height": 7,
        "hidden": false,
        "row": 115,
        "width": 4
       },
       "report_default": {}
      }
     }
    },
    "toc-hr-collapsed": true,
    "toc-nb-collapsed": true
   },
   "outputs": [],
   "source": [
    "#Find mito and ribo genes\n",
    "mito_genes = adata.var_names.str.startswith('MT-')    \n",
    "ribo_genes = adata.var_names.str.contains('^RPS|^RPL')\n",
    "\n",
    "adata.var_names[mito_genes] "
   ]
  },
  {
   "cell_type": "code",
   "execution_count": null,
   "metadata": {
    "extensions": {
     "jupyter_dashboards": {
      "version": 1,
      "views": {
       "grid_default": {
        "hidden": true
       },
       "report_default": {}
      }
     }
    }
   },
   "outputs": [],
   "source": [
    "adata.var['mito'] = adata.var_names.str.startswith('MT-')    \n",
    "adata.var['ribo']= adata.var_names.str.contains('^RPS|^RPL')"
   ]
  },
  {
   "cell_type": "markdown",
   "metadata": {
    "extensions": {
     "jupyter_dashboards": {
      "version": 1,
      "views": {
       "grid_default": {
        "col": 0,
        "height": 4,
        "hidden": false,
        "row": 135,
        "width": 12
       },
       "report_default": {}
      }
     }
    }
   },
   "source": [
    "### 4.2 Automated QC metrics\n",
    "\n",
    "We use the scanpy automated QC metrics function:\n",
    "    calculate_qc_metrics in module scanpy.preprocessing._qc. See [calculate_qc_metrics docs](https://scanpy.readthedocs.io/en/stable/api/scanpy.pp.calculate_qc_metrics.html)"
   ]
  },
  {
   "cell_type": "code",
   "execution_count": null,
   "metadata": {
    "extensions": {
     "jupyter_dashboards": {
      "version": 1,
      "views": {
       "grid_default": {
        "hidden": true
       },
       "report_default": {}
      }
     }
    },
    "toc-hr-collapsed": true,
    "toc-nb-collapsed": true
   },
   "outputs": [],
   "source": [
    "sc.pp.calculate_qc_metrics(adata, qc_vars=['mito','ribo'], inplace=True,\n",
    "                           log1p=False, percent_top=None)"
   ]
  },
  {
   "cell_type": "code",
   "execution_count": null,
   "metadata": {
    "extensions": {
     "jupyter_dashboards": {
      "version": 1,
      "views": {
       "grid_default": {
        "col": 0,
        "height": 13,
        "hidden": false,
        "row": 139,
        "width": 12
       },
       "report_default": {}
      }
     }
    },
    "toc-hr-collapsed": true,
    "toc-nb-collapsed": true
   },
   "outputs": [],
   "source": [
    "adata.obs.head()"
   ]
  },
  {
   "cell_type": "markdown",
   "metadata": {
    "extensions": {
     "jupyter_dashboards": {
      "version": 1,
      "views": {
       "grid_default": {
        "col": 0,
        "height": 7,
        "hidden": false,
        "row": 152,
        "width": 12
       },
       "report_default": {}
      }
     }
    }
   },
   "source": [
    "### 4.3 Inspect quality-related parameters\n"
   ]
  },
  {
   "cell_type": "markdown",
   "metadata": {
    "extensions": {
     "jupyter_dashboards": {
      "version": 1,
      "views": {
       "grid_default": {
        "col": 0,
        "height": 4,
        "hidden": false,
        "row": 119,
        "width": 4
       },
       "report_default": {}
      }
     }
    }
   },
   "source": [
    "__4.3.1 Mitochondrial genes__"
   ]
  },
  {
   "cell_type": "code",
   "execution_count": null,
   "metadata": {
    "extensions": {
     "jupyter_dashboards": {
      "version": 1,
      "views": {
       "grid_default": {
        "col": 0,
        "height": 4,
        "hidden": false,
        "row": 159,
        "width": 4
       },
       "report_default": {}
      }
     }
    }
   },
   "outputs": [],
   "source": [
    "#Print quantiles to get an idea of the value distributions\n",
    "print(np.quantile(adata.obs['pct_counts_mito'], np.arange(0, 1.1, 0.1))) "
   ]
  },
  {
   "cell_type": "markdown",
   "metadata": {
    "extensions": {
     "jupyter_dashboards": {
      "version": 1,
      "views": {
       "grid_default": {
        "col": 4,
        "height": 4,
        "hidden": false,
        "row": 159,
        "width": 4
       },
       "report_default": {}
      }
     }
    }
   },
   "source": [
    "__4.3.2 Ribosomal Protein genes__"
   ]
  },
  {
   "cell_type": "code",
   "execution_count": null,
   "metadata": {
    "extensions": {
     "jupyter_dashboards": {
      "version": 1,
      "views": {
       "grid_default": {
        "col": 8,
        "height": 4,
        "hidden": false,
        "row": 159,
        "width": 4
       },
       "report_default": {}
      }
     }
    }
   },
   "outputs": [],
   "source": [
    "print(np.quantile(adata.obs['pct_counts_ribo'], np.arange(0, 1.1, 0.1)))"
   ]
  },
  {
   "cell_type": "markdown",
   "metadata": {
    "extensions": {
     "jupyter_dashboards": {
      "version": 1,
      "views": {
       "grid_default": {
        "col": 0,
        "height": 4,
        "hidden": false,
        "row": 163,
        "width": 4
       },
       "report_default": {}
      }
     }
    }
   },
   "source": [
    "__4.3.3 Total number of counts for each cell__"
   ]
  },
  {
   "cell_type": "code",
   "execution_count": null,
   "metadata": {
    "extensions": {
     "jupyter_dashboards": {
      "version": 1,
      "views": {
       "grid_default": {
        "col": 4,
        "height": 4,
        "hidden": false,
        "row": 163,
        "width": 4
       },
       "report_default": {}
      }
     }
    }
   },
   "outputs": [],
   "source": [
    "print(np.quantile(adata.obs['total_counts'], np.arange(0, 1.1, 0.1)))"
   ]
  },
  {
   "cell_type": "markdown",
   "metadata": {
    "extensions": {
     "jupyter_dashboards": {
      "version": 1,
      "views": {
       "grid_default": {
        "col": 8,
        "height": 4,
        "hidden": false,
        "row": 163,
        "width": 4
       },
       "report_default": {}
      }
     }
    }
   },
   "source": [
    "__4.3.4 Number of genes detected in each cell__"
   ]
  },
  {
   "cell_type": "code",
   "execution_count": null,
   "metadata": {
    "extensions": {
     "jupyter_dashboards": {
      "version": 1,
      "views": {
       "grid_default": {
        "col": 0,
        "height": 4,
        "hidden": false,
        "row": 167,
        "width": 4
       },
       "report_default": {}
      }
     }
    }
   },
   "outputs": [],
   "source": [
    "print(np.quantile(adata.obs['n_genes_by_counts'], np.arange(0, 1.1, 0.1)))"
   ]
  },
  {
   "cell_type": "markdown",
   "metadata": {
    "extensions": {
     "jupyter_dashboards": {
      "version": 1,
      "views": {
       "grid_default": {
        "col": 4,
        "height": 4,
        "hidden": false,
        "row": 167,
        "width": 4
       },
       "report_default": {}
      }
     }
    }
   },
   "source": [
    "### 4.4 Visualization"
   ]
  },
  {
   "cell_type": "markdown",
   "metadata": {
    "extensions": {
     "jupyter_dashboards": {
      "version": 1,
      "views": {
       "grid_default": {
        "col": 8,
        "height": 4,
        "hidden": false,
        "row": 167,
        "width": 4
       },
       "report_default": {}
      }
     }
    }
   },
   "source": [
    "#### Violin plots: linear values "
   ]
  },
  {
   "cell_type": "code",
   "execution_count": null,
   "metadata": {
    "extensions": {
     "jupyter_dashboards": {
      "version": 1,
      "views": {
       "grid_default": {
        "col": 0,
        "height": 4,
        "hidden": false,
        "row": 171,
        "width": 4
       },
       "report_default": {}
      }
     }
    }
   },
   "outputs": [],
   "source": [
    "sc.pl.violin(adata, keys=['total_counts', 'n_genes_by_counts', 'pct_counts_mito', 'pct_counts_ribo'],\n",
    "             jitter=False, multi_panel=True, groupby='Donor', rotation=45)"
   ]
  },
  {
   "cell_type": "code",
   "execution_count": null,
   "metadata": {
    "extensions": {
     "jupyter_dashboards": {
      "version": 1,
      "views": {
       "grid_default": {
        "col": 0,
        "height": 4,
        "hidden": false,
        "row": 171,
        "width": 4
       },
       "report_default": {}
      }
     }
    }
   },
   "outputs": [],
   "source": [
    "adata.uns['Donor_colors'] "
   ]
  },
  {
   "cell_type": "markdown",
   "metadata": {},
   "source": [
    "#### Violin plots: log values "
   ]
  },
  {
   "cell_type": "code",
   "execution_count": null,
   "metadata": {
    "extensions": {
     "jupyter_dashboards": {
      "version": 1,
      "views": {
       "grid_default": {
        "col": 4,
        "height": 4,
        "hidden": false,
        "row": 171,
        "width": 4
       },
       "report_default": {}
      }
     }
    }
   },
   "outputs": [],
   "source": [
    "sc.pl.violin(adata, keys=['total_counts', 'n_genes_by_counts', 'pct_counts_mito', 'pct_counts_ribo'],\n",
    "             jitter=False, multi_panel=True, log=True, groupby='Donor', rotation=45)"
   ]
  },
  {
   "cell_type": "markdown",
   "metadata": {
    "extensions": {
     "jupyter_dashboards": {
      "version": 1,
      "views": {
       "grid_default": {
        "col": 8,
        "height": 4,
        "hidden": false,
        "row": 171,
        "width": 4
       },
       "report_default": {}
      }
     }
    }
   },
   "source": [
    "#### Density plots\n"
   ]
  },
  {
   "cell_type": "markdown",
   "metadata": {
    "extensions": {
     "jupyter_dashboards": {
      "version": 1,
      "views": {
       "grid_default": {
        "col": 0,
        "height": 4,
        "hidden": false,
        "row": 175,
        "width": 4
       },
       "report_default": {}
      }
     }
    },
    "tags": []
   },
   "source": [
    "##### **Single Plots**"
   ]
  },
  {
   "cell_type": "code",
   "execution_count": null,
   "metadata": {},
   "outputs": [],
   "source": [
    "densityQCs(adata)"
   ]
  },
  {
   "cell_type": "markdown",
   "metadata": {
    "extensions": {
     "jupyter_dashboards": {
      "version": 1,
      "views": {
       "grid_default": {
        "col": 8,
        "height": 4,
        "hidden": false,
        "row": 179,
        "width": 4
       },
       "report_default": {}
      }
     }
    }
   },
   "source": [
    "##### **Double Plots**"
   ]
  },
  {
   "cell_type": "code",
   "execution_count": null,
   "metadata": {
    "extensions": {
     "jupyter_dashboards": {
      "version": 1,
      "views": {
       "grid_default": {
        "col": 4,
        "height": 14,
        "hidden": false,
        "row": 181,
        "width": 4
       },
       "report_default": {}
      }
     }
    }
   },
   "outputs": [],
   "source": [
    "sns.jointplot(x=np.log10(adata.obs['total_counts']), \n",
    "              y=np.log10(adata.obs['n_genes_by_counts']), \n",
    "              kind=\"kde\", color=\"cornflowerblue\", fill=True)"
   ]
  },
  {
   "cell_type": "code",
   "execution_count": null,
   "metadata": {
    "extensions": {
     "jupyter_dashboards": {
      "version": 1,
      "views": {
       "grid_default": {
        "col": 0,
        "height": 14,
        "hidden": false,
        "row": 185,
        "width": 4
       },
       "report_default": {}
      }
     }
    }
   },
   "outputs": [],
   "source": [
    "sns.jointplot(x=adata.obs['pct_counts_mito'], \n",
    "              y=adata.obs['pct_counts_ribo'], \n",
    "              kind=\"hist\", color=\"coral\")"
   ]
  },
  {
   "cell_type": "markdown",
   "metadata": {
    "extensions": {
     "jupyter_dashboards": {
      "version": 1,
      "views": {
       "grid_default": {
        "col": 4,
        "height": 4,
        "hidden": false,
        "row": 195,
        "width": 4
       },
       "report_default": {}
      }
     }
    }
   },
   "source": [
    "# 5. Filtering\n",
    "Modify the __threshold variables__ cell at the start of the QC to overwrite the default filtering values"
   ]
  },
  {
   "cell_type": "code",
   "execution_count": null,
   "metadata": {
    "extensions": {
     "jupyter_dashboards": {
      "version": 1,
      "views": {
       "grid_default": {
        "col": 0,
        "height": 6,
        "hidden": false,
        "row": 203,
        "width": 4
       },
       "report_default": {}
      }
     }
    }
   },
   "outputs": [],
   "source": [
    "print('\\nThe selected filtering parameters are: \\n Minimum cells: ' , MIN_CELLS, \n",
    "      '\\n Minimum counts: ' , MIN_COUNTS, '\\n Maximum counts:' , MAX_COUNTS,\n",
    "      '\\n Minimum genes: ' , MIN_GENES, '\\n Maximum genes:' , MAX_GENES,\n",
    "      '\\n Mitocondia: ' , MT_PERCENTAGE, '%', '\\n Ribosomal: ', RB_PERCENTAGE, '%')"
   ]
  },
  {
   "cell_type": "markdown",
   "metadata": {
    "extensions": {
     "jupyter_dashboards": {
      "version": 1,
      "views": {
       "grid_default": {
        "col": 0,
        "height": 6,
        "hidden": false,
        "row": 203,
        "width": 4
       },
       "report_default": {}
      }
     }
    }
   },
   "source": [
    "## 5.1 Filtering Cells\n",
    "\n",
    "### 5.1.1 Detected Genes"
   ]
  },
  {
   "cell_type": "code",
   "execution_count": null,
   "metadata": {},
   "outputs": [],
   "source": [
    "sc.pp.filter_cells(adata, min_genes=MIN_GENES)\n",
    "print('After filtering on min detected genes:number of cells:', adata.n_obs)\n",
    "print()"
   ]
  },
  {
   "cell_type": "markdown",
   "metadata": {},
   "source": [
    "### 5.1.2 UMI Counts"
   ]
  },
  {
   "cell_type": "code",
   "execution_count": null,
   "metadata": {},
   "outputs": [],
   "source": [
    "sc.pp.filter_cells(adata, min_counts = MIN_COUNTS)\n",
    "print('After filtering on min UMI counts:number of cells:', adata.n_obs)"
   ]
  },
  {
   "cell_type": "markdown",
   "metadata": {},
   "source": [
    "### 5.1.3 Mitochondrial RNA"
   ]
  },
  {
   "cell_type": "code",
   "execution_count": null,
   "metadata": {},
   "outputs": [],
   "source": [
    "#adata.obs[adata.obs['percent_mito'] > 0.05]  \n",
    "adata = adata[adata.obs['pct_counts_mito'] < MT_PERCENTAGE, :]\n",
    "\n",
    "print('After filtering on mitochondrial RNA: number of cells:', adata.n_obs)"
   ]
  },
  {
   "cell_type": "markdown",
   "metadata": {},
   "source": [
    "### 5.1.4 Ribosomal RNA"
   ]
  },
  {
   "cell_type": "code",
   "execution_count": null,
   "metadata": {},
   "outputs": [],
   "source": [
    "#adata = adata[adata.obs['percent_ribo'] < 0.35, :]\n",
    "adata = adata[adata.obs['pct_counts_ribo'] < RB_PERCENTAGE, :]\n",
    "\n",
    "print('After filtering on ribosomal protein RNA: number of cells:', adata.n_obs)"
   ]
  },
  {
   "cell_type": "markdown",
   "metadata": {
    "extensions": {
     "jupyter_dashboards": {
      "version": 1,
      "views": {
       "grid_default": {
        "col": 4,
        "height": 4,
        "hidden": false,
        "row": 203,
        "width": 4
       },
       "report_default": {}
      }
     }
    },
    "tags": []
   },
   "source": [
    "## 5.2 Filtering genes\n",
    "**Filtered out genes expressed in less than 0.5% of cells**"
   ]
  },
  {
   "cell_type": "code",
   "execution_count": null,
   "metadata": {
    "extensions": {
     "jupyter_dashboards": {
      "version": 1,
      "views": {
       "grid_default": {
        "col": 8,
        "height": 4,
        "hidden": false,
        "row": 203,
        "width": 4
       },
       "report_default": {}
      }
     }
    }
   },
   "outputs": [],
   "source": [
    "print('Before gene filtering: number of genes:', adata.n_vars)\n",
    "print('Before gene filtering: number of cells:', adata.n_obs)"
   ]
  },
  {
   "cell_type": "code",
   "execution_count": null,
   "metadata": {
    "extensions": {
     "jupyter_dashboards": {
      "version": 1,
      "views": {
       "grid_default": {
        "col": 4,
        "height": 4,
        "hidden": false,
        "row": 207,
        "width": 4
       },
       "report_default": {}
      }
     }
    }
   },
   "outputs": [],
   "source": [
    "print(MIN_CELLS) # Filtering genes on minimum cells: 1%\n",
    "sc.pp.filter_genes(adata, min_cells=MIN_CELLS)"
   ]
  },
  {
   "cell_type": "code",
   "execution_count": null,
   "metadata": {
    "extensions": {
     "jupyter_dashboards": {
      "version": 1,
      "views": {
       "grid_default": {
        "col": 8,
        "height": 4,
        "hidden": false,
        "row": 207,
        "width": 4
       },
       "report_default": {}
      }
     }
    }
   },
   "outputs": [],
   "source": [
    "print('After gene filtering: number of genes:', adata.n_vars)\n",
    "print('After filtering: number of cells:', adata.n_obs)"
   ]
  },
  {
   "cell_type": "markdown",
   "metadata": {},
   "source": [
    "## 5.3 Numbers after filtering"
   ]
  },
  {
   "cell_type": "code",
   "execution_count": null,
   "metadata": {},
   "outputs": [],
   "source": [
    "print('After applied filtering: number of cells:', adata.n_obs)\n",
    "print('After applied filtering: number of genes:', adata.n_vars)"
   ]
  },
  {
   "cell_type": "code",
   "execution_count": null,
   "metadata": {},
   "outputs": [],
   "source": [
    "adata.obs['Donor'].value_counts().plot.bar(color=['#279e68', '#d62728', '#ff7f0e', '#1f77b4'])"
   ]
  },
  {
   "cell_type": "code",
   "execution_count": null,
   "metadata": {},
   "outputs": [],
   "source": [
    "sc.pl.violin(adata, keys=['total_counts', 'n_genes_by_counts', 'pct_counts_mito', 'pct_counts_ribo'], groupby='Donor',\n",
    "             jitter=False, multi_panel=True, rotation=45)"
   ]
  },
  {
   "cell_type": "markdown",
   "metadata": {},
   "source": [
    "----"
   ]
  },
  {
   "cell_type": "markdown",
   "metadata": {
    "extensions": {
     "jupyter_dashboards": {
      "version": 1,
      "views": {
       "grid_default": {
        "col": 8,
        "height": 4,
        "hidden": false,
        "row": 293,
        "width": 4
       },
       "report_default": {}
      }
     }
    }
   },
   "source": [
    "# 6. Save file"
   ]
  },
  {
   "cell_type": "markdown",
   "metadata": {},
   "source": [
    "## 6.1 Save Adata"
   ]
  },
  {
   "cell_type": "code",
   "execution_count": null,
   "metadata": {
    "extensions": {
     "jupyter_dashboards": {
      "version": 1,
      "views": {
       "grid_default": {
        "col": 4,
        "height": 4,
        "hidden": false,
        "row": 297,
        "width": 4
       },
       "report_default": {}
      }
     }
    }
   },
   "outputs": [],
   "source": [
    "type(adata.X)"
   ]
  },
  {
   "cell_type": "code",
   "execution_count": null,
   "metadata": {
    "extensions": {
     "jupyter_dashboards": {
      "version": 1,
      "views": {
       "grid_default": {
        "col": 8,
        "height": 4,
        "hidden": false,
        "row": 297,
        "width": 4
       },
       "report_default": {}
      }
     }
    }
   },
   "outputs": [],
   "source": [
    "adata.X"
   ]
  },
  {
   "cell_type": "raw",
   "metadata": {
    "extensions": {
     "jupyter_dashboards": {
      "version": 1,
      "views": {
       "grid_default": {
        "hidden": true
       },
       "report_default": {}
      }
     }
    }
   },
   "source": [
    "#Check that adata.X is stored as sparse if not convert\n",
    "if (isspmatrix(adata.X) == False):\n",
    "    adata.X = csr_matrix(adata.X)\n",
    "    print(\"Converted adata.X to sparse\")"
   ]
  },
  {
   "cell_type": "code",
   "execution_count": null,
   "metadata": {},
   "outputs": [],
   "source": [
    "adata.write(results_file)"
   ]
  },
  {
   "cell_type": "markdown",
   "metadata": {},
   "source": [
    "## 6.2 Finished computations: timestamp"
   ]
  },
  {
   "cell_type": "code",
   "execution_count": null,
   "metadata": {},
   "outputs": [],
   "source": [
    "print(datetime.now())"
   ]
  },
  {
   "cell_type": "markdown",
   "metadata": {},
   "source": [
    "## 6.3 Save notebook"
   ]
  },
  {
   "cell_type": "code",
   "execution_count": null,
   "metadata": {},
   "outputs": [],
   "source": [
    "#nb_fname = ipynbname.name()\n",
    "nb_fname = '1_QC_Filt'\n",
    "nb_fname"
   ]
  },
  {
   "cell_type": "code",
   "execution_count": null,
   "metadata": {},
   "outputs": [],
   "source": [
    "%%bash -s \"$nb_fname\"\n",
    "jupyter nbconvert \"$1\".ipynb --to=\"python\"\n",
    "jupyter nbconvert \"$1\".ipynb --to=\"html\""
   ]
  },
  {
   "cell_type": "code",
   "execution_count": null,
   "metadata": {},
   "outputs": [],
   "source": []
  }
 ],
 "metadata": {
  "extensions": {
   "jupyter_dashboards": {
    "activeView": "grid_default",
    "version": 1,
    "views": {
     "grid_default": {
      "cellMargin": 10,
      "defaultCellHeight": 20,
      "maxColumns": 12,
      "name": "grid",
      "type": "grid"
     },
     "report_default": {
      "name": "report",
      "type": "report"
     }
    }
   }
  },
  "kernelspec": {
   "display_name": "Python 3 (ipykernel)",
   "language": "python",
   "name": "python3"
  },
  "language_info": {
   "codemirror_mode": {
    "name": "ipython",
    "version": 3
   },
   "file_extension": ".py",
   "mimetype": "text/x-python",
   "name": "python",
   "nbconvert_exporter": "python",
   "pygments_lexer": "ipython3",
   "version": "3.8.10"
  },
  "toc": {
   "base_numbering": 1,
   "nav_menu": {},
   "number_sections": false,
   "sideBar": true,
   "skip_h1_title": true,
   "title_cell": "Table of Contents",
   "title_sidebar": "Contents",
   "toc_cell": false,
   "toc_position": {},
   "toc_section_display": true,
   "toc_window_display": true
  }
 },
 "nbformat": 4,
 "nbformat_minor": 4
}

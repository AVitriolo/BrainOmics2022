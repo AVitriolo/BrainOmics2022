{
 "cells": [
  {
   "cell_type": "markdown",
   "metadata": {},
   "source": [
    "#  Mid-gestation fetal cortex dataset: Normalization and Feature Selection \n",
    "\n",
    "\n",
    "__Upstream Steps__\n",
    "\n",
    "* QC filter on cells\n",
    "* Expression filter on genes\n",
    "\n",
    "__This notebook__\n",
    "\n",
    "* Normalization and log10 transformation by Scanpy\n",
    "* Feature selection by Triku\n",
    "* Save normalized and transformed adata"
   ]
  },
  {
   "cell_type": "markdown",
   "metadata": {},
   "source": [
    "# 1. Environment"
   ]
  },
  {
   "cell_type": "markdown",
   "metadata": {},
   "source": [
    "## 1.1 Libraries"
   ]
  },
  {
   "cell_type": "code",
   "execution_count": null,
   "metadata": {},
   "outputs": [],
   "source": [
    "import numpy as np\n",
    "import pandas as pd\n",
    "import igraph as ig\n",
    "import scanpy as sc\n",
    "import scanpy.external as sce\n",
    "import triku as tk\n",
    "\n",
    "#Plotting\n",
    "import seaborn as sns\n",
    "import matplotlib.pyplot as plt\n",
    "\n",
    "#utils\n",
    "from datetime import datetime\n",
    "from scipy.sparse import csr_matrix, isspmatrix"
   ]
  },
  {
   "cell_type": "markdown",
   "metadata": {},
   "source": [
    "## 1.2 Settings\n",
    "\n",
    "* Scanpy verbosity\n",
    "* Figure size    \n",
    "* Result file: the file that will store the analysis results"
   ]
  },
  {
   "cell_type": "code",
   "execution_count": null,
   "metadata": {},
   "outputs": [],
   "source": [
    "sc.settings.verbosity = 3\n",
    "sc.settings.set_figure_params(dpi=80)"
   ]
  },
  {
   "cell_type": "code",
   "execution_count": null,
   "metadata": {},
   "outputs": [],
   "source": [
    "#results_file = '/home/..../brainomics/Dati/2_AdataNorm.h5ad'"
   ]
  },
  {
   "cell_type": "markdown",
   "metadata": {},
   "source": [
    "## 1.3 Starting Computations"
   ]
  },
  {
   "cell_type": "code",
   "execution_count": null,
   "metadata": {},
   "outputs": [],
   "source": [
    "print(datetime.now())"
   ]
  },
  {
   "cell_type": "markdown",
   "metadata": {},
   "source": [
    "----"
   ]
  },
  {
   "cell_type": "markdown",
   "metadata": {},
   "source": [
    "# 2. Data Load"
   ]
  },
  {
   "cell_type": "markdown",
   "metadata": {},
   "source": [
    "Adata after cell and gene filtering."
   ]
  },
  {
   "cell_type": "code",
   "execution_count": null,
   "metadata": {},
   "outputs": [],
   "source": [
    "#adata = sc.read('/home/..../brainomics/Data/1_AdataFilt.h5ad')\n",
    "#adata = sc.read('/group/brainomics/course_material/Day2/data/Ongoing/1_AdataFilt.h5ad')"
   ]
  },
  {
   "cell_type": "code",
   "execution_count": null,
   "metadata": {},
   "outputs": [],
   "source": [
    "adata.shape"
   ]
  },
  {
   "cell_type": "code",
   "execution_count": null,
   "metadata": {},
   "outputs": [],
   "source": [
    "isspmatrix(adata.X)"
   ]
  },
  {
   "cell_type": "code",
   "execution_count": null,
   "metadata": {},
   "outputs": [],
   "source": [
    "print('Loaded Filtered AnnData object: number of cells', adata.n_obs)\n",
    "print('Loaded Filtered AnnData object: number of genes', adata.n_vars)\n",
    " \n",
    "print('Available metadata for each cell: ', adata.obs.columns)"
   ]
  },
  {
   "cell_type": "markdown",
   "metadata": {},
   "source": [
    "-------"
   ]
  },
  {
   "cell_type": "markdown",
   "metadata": {},
   "source": [
    "# 3. Normalize and Log Transform data: **Scanpy Normalization**"
   ]
  },
  {
   "cell_type": "markdown",
   "metadata": {},
   "source": [
    "## 3.1 Store raw counts in 'counts' layer"
   ]
  },
  {
   "cell_type": "code",
   "execution_count": null,
   "metadata": {},
   "outputs": [],
   "source": [
    "adata.layers['counts'] = adata.X.copy()"
   ]
  },
  {
   "cell_type": "code",
   "execution_count": null,
   "metadata": {},
   "outputs": [],
   "source": [
    "print(adata.X[:, adata.var_names == 'ACTB'][:6])"
   ]
  },
  {
   "cell_type": "markdown",
   "metadata": {},
   "source": [
    "## 3.2 Basic Scanpy Normalization"
   ]
  },
  {
   "cell_type": "markdown",
   "metadata": {},
   "source": [
    "Some useful parameters to keep in mind from the scanpy documentation for [sc.pp.normalize_total](https://scanpy.readthedocs.io/en/stable/generated/scanpy.pp.normalize_total.html)\n",
    ">- `target_sum` : If None, after normalization, each observation (cell) has a total count equal to the **median of total counts for observations (cells) before normalization**.\n",
    ">- `exclude_highly_expressed` : Exclude (very) highly expressed genes for the computation of the normalization factor (size factor) for each cell. **A gene is considered highly expressed, if it has more than max_fraction of the total counts in at least one cell**. The not-excluded genes will sum up to target_sum.\n",
    ">- `max_fraction` : float (**default: 0.05**) If exclude_highly_expressed=True, consider cells as highly expressed that have more counts than max_fraction of the original total counts in at least one cell."
   ]
  },
  {
   "cell_type": "code",
   "execution_count": null,
   "metadata": {},
   "outputs": [],
   "source": [
    "sc.pp.normalize_total(adata, target_sum=1e4, exclude_highly_expressed=True)\n",
    "sc.pp.log1p(adata)"
   ]
  },
  {
   "cell_type": "markdown",
   "metadata": {},
   "source": [
    "## 3.3 Store normalized counts"
   ]
  },
  {
   "cell_type": "code",
   "execution_count": null,
   "metadata": {},
   "outputs": [],
   "source": [
    "adata.layers['lognormcounts']=adata.X.copy()"
   ]
  },
  {
   "cell_type": "code",
   "execution_count": null,
   "metadata": {},
   "outputs": [],
   "source": [
    "print(adata.layers['counts'][:, adata.var_names == 'ACTB'][:6])"
   ]
  },
  {
   "cell_type": "code",
   "execution_count": null,
   "metadata": {},
   "outputs": [],
   "source": [
    "print(adata.layers['lognormcounts'][:, adata.var_names == 'ACTB'][:6])"
   ]
  },
  {
   "cell_type": "code",
   "execution_count": null,
   "metadata": {},
   "outputs": [],
   "source": [
    "print(adata.X[:, adata.var_names == 'ACTB'][:6])"
   ]
  },
  {
   "cell_type": "markdown",
   "metadata": {},
   "source": [
    "## Alternative workflow: normalization by **Scran**"
   ]
  },
  {
   "cell_type": "markdown",
   "metadata": {},
   "source": [
    "<div class=\"alert alert-block alert-warning\"><b>FOOD for THOUGHTS: normalize with Scran</b>\n",
    "\n",
    "    \n",
    "<nav> <b> References: </b>\n",
    "<a href=\"https://genomebiology.biomedcentral.com/articles/10.1186/s13059-016-0947-7\"> Scran Paper </a> |\n",
    "<a href=\"https://bioconductor.org/packages/release/bioc/vignettes/scran/inst/doc/scran.html\">Scran R Vignette </a> |\n",
    "<a href=\"https://github.com/theislab/single-cell-tutorial/blob/master/latest_notebook/Case-study_Mouse-intestinal-epithelium_1906.ipynb\">Theis Scran Tutorial in scanpy </a> |\n",
    " </nav>\n",
    "    \n",
    "\n",
    "Normalizing cell-specific biases\n",
    "\n",
    "Cell-specific biases are normalized using the computeSumFactors() method, which implements the deconvolution strategy for scaling normalization (A. T. Lun, Bach, and Marioni 2016). This computes size factors that are used to scale the counts in each cell. The assumption is that most genes are not differentially expressed (DE) between cells , such that any differences in expression across the majority of genes represents some technical bias that should be removed."
   ]
  },
  {
   "cell_type": "markdown",
   "metadata": {},
   "source": [
    "----"
   ]
  },
  {
   "cell_type": "markdown",
   "metadata": {},
   "source": [
    "# 4. Feature selection: Triku"
   ]
  },
  {
   "cell_type": "markdown",
   "metadata": {},
   "source": [
    "<nav> <b> Sources: </b>\n",
    "<a href=\"https://academic.oup.com/gigascience/article/doi/10.1093/gigascience/giac017/6547682\"> Triku Paper </a> |\n",
    "<a href=\"https://triku.readthedocs.io/en/latest/triku-work.html\"> Docs </a> |\n",
    " </nav>\n",
    "\n",
    "The premise of triku is that, for genes with similar expression levels, the expression pattern can be categorized in three states: \n",
    "\n",
    "- i: the gene is expressed throughout the cells with similar expression levels **(a)**: NO useful information about specific cell types associated to that gene\n",
    "- ii: the expression of the gene can be localized in a subset of cells, which can in turn be:\n",
    "    - Transcriptomically different cells **(b1)** (i.e. cells that are not neighbours in the dimensionally reduced map)\n",
    "    - Transcriptomically similar cells **(b2)** (neighbours): the gene is more probably biologically relevant for that population\n",
    "\n",
    "![](https://triku.readthedocs.io/en/latest/_images/cluster_distribution.svg)\n",
    "\n",
    "**Triku aims to select genes of case (b2)** while avoiding the selection of genes of case (a) and (b1). \n",
    "\n",
    "It does so by **looking at the expression in the nearest neighbours**"
   ]
  },
  {
   "cell_type": "markdown",
   "metadata": {},
   "source": [
    "<div class=\"alert alert-block alert-success\"><b>PROs </b>of this method:\n",
    "    \n",
    "- selects more biologically relevant genes \n",
    "- avoids selection of mitocondrial and ribosomal genes\n",
    "- tends to select a lower number of HVGs aiding downstream computations\n",
    "</div>"
   ]
  },
  {
   "cell_type": "markdown",
   "metadata": {
    "jp-MarkdownHeadingCollapsed": true,
    "tags": []
   },
   "source": [
    "## The Algorithm \n",
    "1. **Create a neighbour graph** by selecting the k cells with the most similar transcriptome to each cell in the dataset kNN:\n",
    "2. For each gene:\n",
    "    1. Obtain the distribution of the the kNN counts **summing the counts of each cell and its neighbors** for each cell with positive expression in the dataset. \n",
    "    2. Simulate a **null distribution**, as above but considering k random cells instead of kNN ones. \n",
    "    3. Compare the kNN distribution with its corresponding null distribution ì\n",
    "    4. **Compute the [Wasserstein distance](https://en.wikipedia.org/wiki/Wasserstein_metric)** between both distributions\n",
    "3. Normalize Wasserstein distances\n",
    "4. Select the features with highest Wasserstein distance. \n",
    "\n",
    "![](https://triku.readthedocs.io/en/latest/_images/knn_scheme.svg)"
   ]
  },
  {
   "cell_type": "markdown",
   "metadata": {},
   "source": [
    "## 4.1 Compute neighbors"
   ]
  },
  {
   "cell_type": "code",
   "execution_count": null,
   "metadata": {},
   "outputs": [],
   "source": [
    "sc.pp.pca(adata, use_highly_variable=False) #specify in case you want to try different HVG selection methods "
   ]
  },
  {
   "cell_type": "code",
   "execution_count": null,
   "metadata": {},
   "outputs": [],
   "source": [
    "sc.pp.neighbors(adata, metric='cosine', n_neighbors=int(0.5 * len(adata) ** 0.5)) "
   ]
  },
  {
   "cell_type": "markdown",
   "metadata": {},
   "source": [
    "## 4.2 Identify HVG"
   ]
  },
  {
   "cell_type": "code",
   "execution_count": null,
   "metadata": {},
   "outputs": [],
   "source": [
    "tk.tl.triku(adata, use_raw=False)"
   ]
  },
  {
   "cell_type": "code",
   "execution_count": null,
   "metadata": {},
   "outputs": [],
   "source": [
    "Top20Triku = adata.var.sort_values(by=['triku_distance'], ascending=False).head(20).index\n",
    "Top20Triku"
   ]
  },
  {
   "cell_type": "code",
   "execution_count": null,
   "metadata": {},
   "outputs": [],
   "source": [
    "print('Number of Higly Variable Genes', len(adata.var_names[adata.var['highly_variable'] == True]))"
   ]
  },
  {
   "cell_type": "markdown",
   "metadata": {},
   "source": [
    "\n",
    "<div class=\"alert alert-block alert-warning\"> <b>FOOD for THOUGHTS: Batch effect could influence HVG selection. </b> \n",
    "    \n",
    "You can consider to correct (e.g. with Harmony) the neighbors used to compute the HVGs. For this dataset we did not notice a big difference between the two procedures."
   ]
  },
  {
   "cell_type": "markdown",
   "metadata": {},
   "source": [
    "----"
   ]
  },
  {
   "cell_type": "markdown",
   "metadata": {},
   "source": [
    "<div class=\"alert alert-block alert-warning\"><b>FOOD for THOUGHTS: Alternative HVG approach using scanpy function</b>\n",
    "\n",
    "\n",
    "    \n",
    " > sc.pp.highly_variable_genes(adata) # n_top_genes=2000,  #batch_key='batch'\n",
    "    \n",
    " > sc.pl.highly_variable_genes(adata)\n",
    " \n",
    " > print('Number of Higly Variable Genes', len(adata.var_names[adata.var['highly_variable'] == True]))\n",
    " \n",
    "> adata.var['scanpy_highly_variable'] = adata.var['highly_variable'] \n",
    "\n",
    "> adata.var['highly_variable'] = adata.var['triku_highly_variable'] "
   ]
  },
  {
   "cell_type": "markdown",
   "metadata": {},
   "source": [
    "----"
   ]
  },
  {
   "cell_type": "markdown",
   "metadata": {},
   "source": [
    "# 5. Save"
   ]
  },
  {
   "cell_type": "markdown",
   "metadata": {},
   "source": [
    "## 5.1 Save AData"
   ]
  },
  {
   "cell_type": "code",
   "execution_count": null,
   "metadata": {},
   "outputs": [],
   "source": [
    "del adata.uns['triku_params']\n",
    "adata.write(results_file)"
   ]
  },
  {
   "cell_type": "markdown",
   "metadata": {},
   "source": [
    "## 5.2 Timestamp finished computations "
   ]
  },
  {
   "cell_type": "code",
   "execution_count": null,
   "metadata": {},
   "outputs": [],
   "source": [
    "print(datetime.now())"
   ]
  },
  {
   "cell_type": "markdown",
   "metadata": {},
   "source": [
    "## 5.3 Save python and html versions"
   ]
  },
  {
   "cell_type": "code",
   "execution_count": null,
   "metadata": {},
   "outputs": [],
   "source": [
    "#nb_fname = ipynbname.name()\n",
    "nb_fname='2_Norm_HVG'"
   ]
  },
  {
   "cell_type": "code",
   "execution_count": null,
   "metadata": {},
   "outputs": [],
   "source": [
    "%%bash -s \"$nb_fname\"\n",
    "jupyter nbconvert \"$1\".ipynb --to=\"python\"\n",
    "jupyter nbconvert \"$1\".ipynb --to=\"html\""
   ]
  },
  {
   "cell_type": "code",
   "execution_count": null,
   "metadata": {},
   "outputs": [],
   "source": []
  }
 ],
 "metadata": {
  "kernelspec": {
   "display_name": "Python 3 (ipykernel)",
   "language": "python",
   "name": "python3"
  },
  "language_info": {
   "codemirror_mode": {
    "name": "ipython",
    "version": 3
   },
   "file_extension": ".py",
   "mimetype": "text/x-python",
   "name": "python",
   "nbconvert_exporter": "python",
   "pygments_lexer": "ipython3",
   "version": "3.8.10"
  },
  "toc": {
   "base_numbering": 1,
   "nav_menu": {},
   "number_sections": false,
   "sideBar": true,
   "skip_h1_title": true,
   "title_cell": "Table of Contents",
   "title_sidebar": "Contents",
   "toc_cell": false,
   "toc_position": {
    "height": "calc(100% - 180px)",
    "left": "10px",
    "top": "150px",
    "width": "320.967px"
   },
   "toc_section_display": true,
   "toc_window_display": true
  }
 },
 "nbformat": 4,
 "nbformat_minor": 4
}

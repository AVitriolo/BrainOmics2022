{
 "cells": [
  {
   "cell_type": "markdown",
   "metadata": {},
   "source": [
    "# Mid-gestation fetal cortex dataset: Batch correction and Dimensionality reduction\n",
    "\n",
    "\n",
    "__Upstream Steps__\n",
    "\n",
    "* QC filter on cells\n",
    "* expression filter on genes\n",
    "* Normalization and log10 transformation by Scanpy\n",
    "* HVG by Triku\n",
    "\n",
    "__This notebook__\n",
    "\n",
    "* Integration by Harmony\n",
    "* Dimensionality reduction by\n",
    "    * UMAP\n",
    "    * Diffusion Map\n",
    "    * Force-Directed Graph"
   ]
  },
  {
   "cell_type": "markdown",
   "metadata": {
    "tags": []
   },
   "source": [
    "# 1. Environment Set Up\n",
    "\n",
    "## 1.1 Library upload"
   ]
  },
  {
   "cell_type": "code",
   "execution_count": null,
   "metadata": {},
   "outputs": [],
   "source": [
    "import numpy as np\n",
    "import pandas as pd\n",
    "import seaborn as sns\n",
    "import igraph as ig\n",
    "import matplotlib.pyplot as plt\n",
    "from datetime import datetime\n",
    "from scipy.sparse import csr_matrix, isspmatrix\n",
    "\n",
    "import scanpy as sc\n",
    "import scanpy.external as sce\n"
   ]
  },
  {
   "cell_type": "markdown",
   "metadata": {},
   "source": [
    "## 1.2 Settings"
   ]
  },
  {
   "cell_type": "code",
   "execution_count": null,
   "metadata": {},
   "outputs": [],
   "source": [
    "sc.settings.verbosity = 3\n",
    "sc.settings.set_figure_params(dpi=80)"
   ]
  },
  {
   "cell_type": "code",
   "execution_count": null,
   "metadata": {},
   "outputs": [],
   "source": [
    "#results_file = '/home/..../brainomics/Dati/3.1_AdataDimRed.h5ad'"
   ]
  },
  {
   "cell_type": "markdown",
   "metadata": {
    "tags": []
   },
   "source": [
    "## 1.3 Start Computation time"
   ]
  },
  {
   "cell_type": "code",
   "execution_count": null,
   "metadata": {},
   "outputs": [],
   "source": [
    "print(datetime.now())"
   ]
  },
  {
   "cell_type": "markdown",
   "metadata": {},
   "source": [
    "----"
   ]
  },
  {
   "cell_type": "markdown",
   "metadata": {
    "tags": []
   },
   "source": [
    "# 2. Read input files  "
   ]
  },
  {
   "cell_type": "code",
   "execution_count": null,
   "metadata": {},
   "outputs": [],
   "source": [
    "#adata = sc.read('/home/..../brainomics/Data/2_AdataNorm.h5ad'')\n",
    "#adata = sc.read('/group/brainomics/course_material/Day2/data/Ongoing/2_AdataNorm.h5ad')"
   ]
  },
  {
   "cell_type": "code",
   "execution_count": null,
   "metadata": {},
   "outputs": [],
   "source": [
    "print('Loaded Normalizes AnnData object: number of cells', adata.n_obs)\n",
    "print('Loaded Normalizes AnnData object: number of genes', adata.n_vars)\n",
    "\n",
    "print('Available metadata for each cell: ', adata.obs.columns)"
   ]
  },
  {
   "cell_type": "markdown",
   "metadata": {},
   "source": [
    "----"
   ]
  },
  {
   "cell_type": "code",
   "execution_count": null,
   "metadata": {},
   "outputs": [],
   "source": [
    "adata_check = adata.copy()"
   ]
  },
  {
   "cell_type": "code",
   "execution_count": null,
   "metadata": {},
   "outputs": [],
   "source": [
    "sc.pp.pca(adata_check, n_comps=50, use_highly_variable=True, svd_solver='arpack')"
   ]
  },
  {
   "cell_type": "code",
   "execution_count": null,
   "metadata": {},
   "outputs": [],
   "source": [
    "sc.pp.neighbors(adata_check, n_neighbors=30, n_pcs=25)"
   ]
  },
  {
   "cell_type": "code",
   "execution_count": null,
   "metadata": {},
   "outputs": [],
   "source": [
    "sc.tl.umap(adata_check)"
   ]
  },
  {
   "cell_type": "code",
   "execution_count": null,
   "metadata": {},
   "outputs": [],
   "source": [
    "sc.pl.umap(adata_check, color=['Donor', 'Layer'], size=10)"
   ]
  },
  {
   "cell_type": "code",
   "execution_count": null,
   "metadata": {},
   "outputs": [],
   "source": [
    "plt.rcParams['figure.dpi'] = 120\n",
    "sc.pl.umap(adata_check, color=['Donor'], size=10)"
   ]
  },
  {
   "cell_type": "code",
   "execution_count": null,
   "metadata": {},
   "outputs": [],
   "source": [
    "del adata_check"
   ]
  },
  {
   "cell_type": "markdown",
   "metadata": {},
   "source": [
    "----"
   ]
  },
  {
   "cell_type": "markdown",
   "metadata": {},
   "source": [
    "# 3. Integration with Harmony"
   ]
  },
  {
   "cell_type": "markdown",
   "metadata": {},
   "source": [
    "## 3.1 Calculate PCA"
   ]
  },
  {
   "cell_type": "code",
   "execution_count": null,
   "metadata": {},
   "outputs": [],
   "source": [
    "sc.pp.pca(adata, n_comps=50, use_highly_variable=True, svd_solver='arpack')"
   ]
  },
  {
   "cell_type": "code",
   "execution_count": null,
   "metadata": {},
   "outputs": [],
   "source": [
    "sc.external.pp.harmony_integrate(adata, 'Donor')"
   ]
  },
  {
   "cell_type": "markdown",
   "metadata": {},
   "source": [
    "## 3.3 Repeat plot with batch-corrected PCA\n",
    "\n",
    "New corrected PC are saved in `.obs[\"X_pca_harmony\"]`"
   ]
  },
  {
   "cell_type": "code",
   "execution_count": null,
   "metadata": {},
   "outputs": [],
   "source": [
    "sc.pl.embedding(adata, basis=\"X_pca_harmony\", color=['Donor'])"
   ]
  },
  {
   "cell_type": "markdown",
   "metadata": {},
   "source": [
    "----"
   ]
  },
  {
   "cell_type": "markdown",
   "metadata": {},
   "source": [
    "# 4. Calculate dimensionality reductions"
   ]
  },
  {
   "cell_type": "markdown",
   "metadata": {
    "tags": []
   },
   "source": [
    "## Compute neighborhood graph\n",
    "\n",
    "We compute the neighborhood graph of cells using the harmony-corrected PCA representation of the data. This identifies how similar a cell is to another cell, definying cells that are close from those that are not.\n",
    "\n",
    "This step is propedeutic for UMAP plotting and for clustering. \n",
    "\n",
    "__Key parameters:__ \n",
    "\n",
    "* n_pcs: number of PC used for compute the kNN graph\n",
    "* n_neighbors: number of neighbors. Larger neighbor values will result in more global structure being preserved at the loss of detailed local structure. In general this parameter should often be in the range 5 to 50, with a choice of 10 to 15 being a sensible default.\n",
    "* metrics: distance metric used in the calculation\n",
    "\n"
   ]
  },
  {
   "cell_type": "markdown",
   "metadata": {
    "tags": []
   },
   "source": [
    "## n_pcs\n",
    "\n",
    "The elbow plot is helpful when determining how many PCs we need to capture the majority of the variation in the data. The elbow plot visualizes the standard deviation of each PC. Where the elbow appears is usually the threshold for identifying the majority of the variation. However, this method can be a bit subjective about where the elbow is located."
   ]
  },
  {
   "cell_type": "code",
   "execution_count": null,
   "metadata": {},
   "outputs": [],
   "source": [
    "sc.settings.set_figure_params(dpi=80)\n",
    "sc.pl.pca_variance_ratio(adata)"
   ]
  },
  {
   "cell_type": "code",
   "execution_count": null,
   "metadata": {},
   "outputs": [],
   "source": [
    "sc.pl.pca_variance_ratio(adata, log=True)"
   ]
  },
  {
   "cell_type": "markdown",
   "metadata": {},
   "source": [
    "## Choise of paramaters\n",
    "\n",
    "\n",
    "* n_pcs: we will use 20 PCs\n",
    "\n"
   ]
  },
  {
   "cell_type": "markdown",
   "metadata": {},
   "source": [
    "### n_neighbors\n",
    "From documentation:\n",
    "> The size of local neighborhood (in terms of number of neighboring data points) used for manifold approximation. **Larger values result in more global views of the manifold, while smaller values result in more local data being preserved.**\n",
    "> In general values should be in the range 2 to 100. \n",
    "> + If knn is True (Default), number of nearest neighbors to be searched. \n",
    ">>The k-nearest neighbor graph (k-NNG) is a graph in which two vertices p and q are connected by an edge, if the distance between p and q is among the k-th smallest distances from p to other objects from P.\n",
    "> + If knn is False, a Gaussian kernel width is set to the distance of the n_neighbors neighbor.\n",
    ">>This transition matrix is computed using a nearest neighbor graph whose edge weights have a Gaussian distribution with respect to Euclidian distance in gene expression space; transition probabilities correspond to edge weights\n",
    "\n",
    "\n",
    "Overall:\n",
    "- lower n_neighbor = more local structures of data preserved\n",
    "- higher n_neighbor = more global structure of data"
   ]
  },
  {
   "cell_type": "code",
   "execution_count": null,
   "metadata": {
    "tags": []
   },
   "outputs": [],
   "source": [
    "neigh = [5, 20, 50, 80]  \n",
    "#neigh = [5, 10, 15, 20, 25]  \n",
    "#neigh = [3, 5, 7, 9, 11]  \n",
    "\n",
    "dict_neigh = {}\n",
    "\n",
    "for x in neigh:\n",
    "    \n",
    "    dict_key = 'Neighbours_' + str(x)\n",
    "    dict_neigh[dict_key] = []\n",
    "    \n",
    "    print('# neighbors:', x)\n",
    "    sc.pp.neighbors(adata, n_neighbors=x, n_pcs=20, use_rep=\"X_pca_harmony\", key_added=\"harmony\")\n",
    "    sc.tl.umap(adata, neighbors_key=\"harmony\", random_state=1)\n",
    "    sc.pl.umap(adata, color=['Donor', 'Cluster'], \n",
    "          palette=sc.pl.palettes.vega_20_scanpy, size=8)\n",
    "    \n",
    "    \n",
    "    sc.tl.leiden(adata, resolution=0.3, key_added='Leiden_03')\n",
    "    dict_neigh[dict_key].append(max(adata.obs['Leiden_03'].astype('int')) + 1 )\n",
    "    sc.tl.leiden(adata, resolution=0.4, key_added='Leiden_04')\n",
    "    dict_neigh[dict_key].append(max(adata.obs['Leiden_04'].astype('int')) + 1 )\n",
    "    sc.tl.leiden(adata, resolution=0.5, key_added='Leiden_05')\n",
    "    dict_neigh[dict_key].append(max(adata.obs['Leiden_05'].astype('int')) + 1 )\n",
    "    sc.tl.leiden(adata, resolution=0.6, key_added='Leiden_06')\n",
    "    dict_neigh[dict_key].append(max(adata.obs['Leiden_06'].astype('int')) + 1 )\n",
    "    sc.tl.leiden(adata, resolution=0.7, key_added='Leiden_07')\n",
    "    dict_neigh[dict_key].append(max(adata.obs['Leiden_07'].astype('int')) + 1 )\n",
    "    sc.tl.leiden(adata, resolution=0.8, key_added='Leiden_08')\n",
    "    dict_neigh[dict_key].append(max(adata.obs['Leiden_08'].astype('int')) + 1 )\n",
    "    sc.tl.leiden(adata, resolution=0.9, key_added='Leiden_09')\n",
    "    dict_neigh[dict_key].append(max(adata.obs['Leiden_09'].astype('int')) + 1 )\n",
    "    sc.tl.leiden(adata, resolution=1.0, key_added='Leiden_10')\n",
    "    dict_neigh[dict_key].append(max(adata.obs['Leiden_10'].astype('int')) + 1 )\n",
    "    sc.tl.leiden(adata, resolution=1.1, key_added='Leiden_11')\n",
    "    dict_neigh[dict_key].append(max(adata.obs['Leiden_11'].astype('int')) + 1 )\n",
    "    sc.tl.leiden(adata, resolution=1.2, key_added='Leiden_12')\n",
    "    dict_neigh[dict_key].append(max(adata.obs['Leiden_12'].astype('int')) + 1 )\n",
    "    \n",
    "    #color=['Leiden_03', 'Leiden_04', 'Leiden_05', 'Leiden_06', 'Leiden_07', 'Leiden_08', 'Leiden_09']\n",
    "    sc.pl.umap(adata, color=['Leiden_04', 'Leiden_08', 'Leiden_12'], \n",
    "          palette=sc.pl.palettes.vega_20_scanpy, size=8,  legend_loc='on data')"
   ]
  },
  {
   "cell_type": "markdown",
   "metadata": {
    "tags": []
   },
   "source": [
    "## Choise of paramaters\n",
    " \n",
    "* n_neighbors: we will use 80 as number of neighbors\n",
    "\n"
   ]
  },
  {
   "cell_type": "markdown",
   "metadata": {
    "tags": []
   },
   "source": [
    "### Metrics\n",
    "\n",
    "+ **minkowski**: Metric in a normed vector space which can be considered as a generalization of both the Euclidean distance and the Manhattan distance.\n",
    "    1. Euclidean distance: p = 2 (l2 norm) \n",
    "    2. Manhattan distance: p = 1 (l1 norm) \n",
    "    3. Max distance: p = ∞ (max/l∞ norm)\n",
    "\n",
    "\n",
    "+ **cosine**: It is defined to equal the cosine of the angle between two vectors, which is also the same as the inner product of the same vectors normalized to both have length 1. It is thus a judgment of orientation and not magnitude: \n",
    "     - two vectors with the same orientation have a cosine similarity of 1, \n",
    "     - two vectors oriented at 90° relative to each other have a similarity of 0,  \n",
    "     - two vectors diametrically opposed have a similarity of -1, independent of their magnitude.\n",
    "     \n",
    "\n",
    "+ **jaccard**: Ratio of Intersection over Union \n",
    "\n",
    "+ **correlation**: Pearson, Kendall, Spearman\n",
    "\n",
    "Benchmarking Paper: https://academic.oup.com/bib/article/20/6/2316/5077112\n",
    ">Distance-based metrics such as Euclidean distance are sensitive to data scaling, whereas correlation-based metrics such as Pearson’s correlation are invariant to scaling. Such property makes correlation-based metrics robust to data noise and normalisation procedure"
   ]
  },
  {
   "cell_type": "code",
   "execution_count": null,
   "metadata": {
    "tags": []
   },
   "outputs": [],
   "source": [
    "dist = ['euclidean', 'l2', 'manhattan', 'l1', 'minkowski', 'cosine', 'jaccard', 'correlation'] #'cityblock'\n",
    "\n",
    "dict_metric = {}\n",
    "\n",
    "\n",
    "for x in dist:\n",
    "    \n",
    "    dict_key = 'Metric_' + x\n",
    "    dict_metric[dict_key] = []\n",
    "\n",
    "    \n",
    "    print('Metric:', x)\n",
    "    sc.pp.neighbors(adata, n_neighbors=80, n_pcs=20, metric=x, use_rep=\"X_pca_harmony\", key_added=\"harmony\")\n",
    "    sc.tl.umap(adata, neighbors_key=\"harmony\", random_state=1)\n",
    "    sc.pl.umap(adata, color=['Donor', 'Cluster'])\n",
    "    \n",
    "    \n",
    "    "
   ]
  },
  {
   "cell_type": "markdown",
   "metadata": {
    "tags": []
   },
   "source": [
    "## Choise of paramaters\n",
    " \n",
    "* metrics: we will use the default distance in scanpy: \"euclidean\"\n",
    "\n"
   ]
  },
  {
   "cell_type": "code",
   "execution_count": null,
   "metadata": {},
   "outputs": [],
   "source": [
    "sc.pp.neighbors(adata, n_neighbors=80, n_pcs=20, use_rep=\"X_pca_harmony\", key_added=\"harmony\")\n",
    "#sc.pp.neighbors(adata, n_neighbors=80, n_pcs=15, use_rep=\"X_pca_harmony\", key_added=\"harmony\", metric='cosine')"
   ]
  },
  {
   "cell_type": "markdown",
   "metadata": {
    "tags": []
   },
   "source": [
    "## 5.1  UMAP"
   ]
  },
  {
   "cell_type": "code",
   "execution_count": null,
   "metadata": {},
   "outputs": [],
   "source": [
    "sc.tl.umap(adata, neighbors_key=\"harmony\", random_state=1)"
   ]
  },
  {
   "cell_type": "code",
   "execution_count": null,
   "metadata": {},
   "outputs": [],
   "source": [
    "sc.pl.umap(adata, color=['Donor', 'Cluster'])"
   ]
  },
  {
   "cell_type": "markdown",
   "metadata": {},
   "source": [
    "## 5.2  Diffusion Map"
   ]
  },
  {
   "cell_type": "code",
   "execution_count": null,
   "metadata": {},
   "outputs": [],
   "source": [
    "sc.tl.diffmap(adata, neighbors_key=\"harmony\")"
   ]
  },
  {
   "cell_type": "code",
   "execution_count": null,
   "metadata": {},
   "outputs": [],
   "source": [
    "sc.pl.diffmap(adata, color=['Donor', 'Cluster'],components=['2,3'])"
   ]
  },
  {
   "cell_type": "markdown",
   "metadata": {},
   "source": [
    "## 5.4 Force-directed graph"
   ]
  },
  {
   "cell_type": "code",
   "execution_count": null,
   "metadata": {},
   "outputs": [],
   "source": [
    "#Takes quite some time \n",
    "sc.tl.draw_graph(adata, neighbors_key=\"harmony\")"
   ]
  },
  {
   "cell_type": "code",
   "execution_count": null,
   "metadata": {},
   "outputs": [],
   "source": [
    "sc.pl.draw_graph(adata, color=['Donor', 'Cluster'])"
   ]
  },
  {
   "cell_type": "markdown",
   "metadata": {},
   "source": [
    "----"
   ]
  },
  {
   "cell_type": "markdown",
   "metadata": {},
   "source": [
    "----"
   ]
  },
  {
   "cell_type": "markdown",
   "metadata": {},
   "source": [
    "# 6. Save"
   ]
  },
  {
   "cell_type": "markdown",
   "metadata": {},
   "source": [
    "## 6.1 Save AData"
   ]
  },
  {
   "cell_type": "code",
   "execution_count": null,
   "metadata": {},
   "outputs": [],
   "source": [
    "adata.write(results_file)"
   ]
  },
  {
   "cell_type": "markdown",
   "metadata": {},
   "source": [
    "## 6.2 Timestamp finished computations "
   ]
  },
  {
   "cell_type": "code",
   "execution_count": null,
   "metadata": {},
   "outputs": [],
   "source": [
    "print(datetime.now())"
   ]
  },
  {
   "cell_type": "markdown",
   "metadata": {},
   "source": [
    "## 6.3 Save python and html versions"
   ]
  },
  {
   "cell_type": "code",
   "execution_count": null,
   "metadata": {},
   "outputs": [],
   "source": [
    "nb_fname = '3_1_UMAP_parameters'\n",
    "nb_fname"
   ]
  },
  {
   "cell_type": "code",
   "execution_count": null,
   "metadata": {},
   "outputs": [],
   "source": [
    "%%bash -s \"$nb_fname\"\n",
    "jupyter nbconvert \"$1\".ipynb --to=\"python\"\n",
    "jupyter nbconvert \"$1\".ipynb --to=\"html\""
   ]
  },
  {
   "cell_type": "code",
   "execution_count": null,
   "metadata": {},
   "outputs": [],
   "source": []
  }
 ],
 "metadata": {
  "kernelspec": {
   "display_name": "Python 3 (ipykernel)",
   "language": "python",
   "name": "python3"
  },
  "language_info": {
   "codemirror_mode": {
    "name": "ipython",
    "version": 3
   },
   "file_extension": ".py",
   "mimetype": "text/x-python",
   "name": "python",
   "nbconvert_exporter": "python",
   "pygments_lexer": "ipython3",
   "version": "3.8.10"
  }
 },
 "nbformat": 4,
 "nbformat_minor": 4
}

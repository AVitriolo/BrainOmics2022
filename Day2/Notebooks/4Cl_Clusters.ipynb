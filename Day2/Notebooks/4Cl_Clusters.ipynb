{
 "cells": [
  {
   "cell_type": "markdown",
   "metadata": {
    "tags": []
   },
   "source": [
    "# Mid-gestation fetal cortex dataset: Cluster identification and characterization\n",
    "\n",
    "__Upstream Steps__\n",
    "\n",
    "* QC filter on cells\n",
    "* Expression filter on genes\n",
    "* Normalization and log10 transformation by Scanpy\n",
    "* HVG by Triku\n",
    "* Integration by Harmony\n",
    "* Dimensionality reduction after integration\n",
    "\n",
    "__This notebook__\n",
    "\n",
    "* Define resolution for cluster identification\n",
    "* Cluster identification\n",
    "* Cluster characterization\n"
   ]
  },
  {
   "cell_type": "markdown",
   "metadata": {},
   "source": [
    "----"
   ]
  },
  {
   "cell_type": "markdown",
   "metadata": {
    "tags": []
   },
   "source": [
    "# 1. Environment Set Up\n",
    "\n",
    "## 1.1 Library upload"
   ]
  },
  {
   "cell_type": "code",
   "execution_count": null,
   "metadata": {},
   "outputs": [],
   "source": [
    "import numpy as np\n",
    "import pandas as pd\n",
    "import scanpy as sc\n",
    "import scanpy.external as sce\n",
    "import seaborn as sns\n",
    "import igraph as ig\n",
    "from scipy.sparse import csr_matrix, isspmatrix\n",
    "from datetime import datetime\n",
    "\n",
    "from gprofiler import GProfiler"
   ]
  },
  {
   "cell_type": "code",
   "execution_count": null,
   "metadata": {},
   "outputs": [],
   "source": [
    "sc.settings.verbosity = 3\n",
    "sc.settings.set_figure_params(dpi=80)"
   ]
  },
  {
   "cell_type": "markdown",
   "metadata": {},
   "source": [
    "## 1.2 Start Computation time"
   ]
  },
  {
   "cell_type": "code",
   "execution_count": null,
   "metadata": {},
   "outputs": [],
   "source": [
    "print(datetime.now())"
   ]
  },
  {
   "cell_type": "markdown",
   "metadata": {},
   "source": [
    "## 1.3 Result file"
   ]
  },
  {
   "cell_type": "code",
   "execution_count": null,
   "metadata": {},
   "outputs": [],
   "source": [
    "#results_file = '/home/..../brainomics/Dati/4_AdataClusters.h5ad'"
   ]
  },
  {
   "cell_type": "markdown",
   "metadata": {},
   "source": [
    "----"
   ]
  },
  {
   "cell_type": "markdown",
   "metadata": {
    "tags": []
   },
   "source": [
    "# 2. Read input files  "
   ]
  },
  {
   "cell_type": "code",
   "execution_count": null,
   "metadata": {},
   "outputs": [],
   "source": [
    "#adata = sc.read('/home/..../brainomics/Data/3_AdataDimRed.h5ad')\n",
    "#adata = sc.read('/group/brainomics/course_material/Day2/data/Ongoing/3_AdataDimRed.h5ad')"
   ]
  },
  {
   "cell_type": "code",
   "execution_count": null,
   "metadata": {},
   "outputs": [],
   "source": [
    "print('Loaded Normalizes AnnData object: number of cells', adata.n_obs)\n",
    "print('Loaded Normalizes AnnData object: number of genes', adata.n_vars)\n",
    "\n",
    "print('Available metadata for each cell: ', adata.obs.columns)"
   ]
  },
  {
   "cell_type": "markdown",
   "metadata": {},
   "source": [
    "----"
   ]
  },
  {
   "cell_type": "markdown",
   "metadata": {},
   "source": [
    "# 3. Clustering"
   ]
  },
  {
   "cell_type": "markdown",
   "metadata": {},
   "source": [
    "We use graph-based clustering algorithms, that, starting from neighbourhood graph, aim at identifying “communities” of cells that are more connected to cells in the same community than they are to cells of different communities. Each community represents a cluster that is then subjected to downstream characterization.\n",
    "\n",
    "Here we test Leiden algorithm ([reference paper](https://www.nature.com/articles/s41598-019-41695-z)). Advantages: computationally efficient; solves issue of detection of badly connected communities that somentimes happens with Louvain algorithm. \n",
    "\n",
    "Different resolution values are tested; lower values results in a smaller number of bigger clusters, while higher values detect a bigger number of small clusters."
   ]
  },
  {
   "cell_type": "markdown",
   "metadata": {},
   "source": [
    "## 3.1 Test resolutions with Leiden "
   ]
  },
  {
   "cell_type": "code",
   "execution_count": null,
   "metadata": {},
   "outputs": [],
   "source": [
    "res = [0.2, 0.4, 0.6, 0.8, 1, 1.2]\n",
    "leiden_labels = []\n",
    "\n",
    "for x in res:\n",
    "    label = \"Leiden_\" + str(x).replace('.', '')\n",
    "    leiden_labels.append(label) \n",
    "    sc.tl.leiden(adata, resolution = x, key_added= label)"
   ]
  },
  {
   "cell_type": "code",
   "execution_count": null,
   "metadata": {},
   "outputs": [],
   "source": [
    "sc.pl.umap(adata, color=leiden_labels)"
   ]
  },
  {
   "cell_type": "code",
   "execution_count": null,
   "metadata": {},
   "outputs": [],
   "source": [
    "sc.pl.draw_graph(adata, color=leiden_labels)"
   ]
  },
  {
   "cell_type": "markdown",
   "metadata": {},
   "source": [
    "## 3.2 Choose granularity"
   ]
  },
  {
   "cell_type": "code",
   "execution_count": null,
   "metadata": {},
   "outputs": [],
   "source": [
    "chosen_leiden = 'Leiden_06'\n",
    "key_leiden = 'rank_L' + chosen_leiden[-2:]"
   ]
  },
  {
   "cell_type": "code",
   "execution_count": null,
   "metadata": {},
   "outputs": [],
   "source": [
    "adata.obs['FinalLeiden'] = adata.obs['Leiden_06']\n",
    "adata.obs['FinalLeiden'].value_counts()"
   ]
  },
  {
   "cell_type": "code",
   "execution_count": null,
   "metadata": {},
   "outputs": [],
   "source": [
    "sc.pl.umap(adata, color=['Leiden_06', 'Cluster'])"
   ]
  },
  {
   "cell_type": "code",
   "execution_count": null,
   "metadata": {},
   "outputs": [],
   "source": [
    "pd.crosstab(adata.obs['Cluster'], adata.obs['FinalLeiden'], margins=True)"
   ]
  },
  {
   "cell_type": "markdown",
   "metadata": {},
   "source": [
    "----"
   ]
  },
  {
   "cell_type": "markdown",
   "metadata": {},
   "source": [
    "# 4. Top markers"
   ]
  },
  {
   "cell_type": "code",
   "execution_count": null,
   "metadata": {},
   "outputs": [],
   "source": [
    "adata.uns['log1p']['base'] = None\n",
    "sc.tl.rank_genes_groups(adata, groupby='FinalLeiden', method='wilcoxon', key_added='rank_L06', \n",
    "                       use_raw=False)"
   ]
  },
  {
   "cell_type": "code",
   "execution_count": null,
   "metadata": {},
   "outputs": [],
   "source": [
    "GroupMarkers = pd.DataFrame(adata.uns['rank_L06']['names']).head(101)\n",
    "GroupMarkers.columns = 'Cl_' + GroupMarkers.columns\n",
    "\n",
    "GroupMarkers.head(21)"
   ]
  },
  {
   "cell_type": "code",
   "execution_count": null,
   "metadata": {},
   "outputs": [],
   "source": [
    "sc.pl.rank_genes_groups_dotplot(adata, n_genes=5, key='rank_L06')"
   ]
  },
  {
   "cell_type": "markdown",
   "metadata": {},
   "source": [
    "----"
   ]
  },
  {
   "cell_type": "markdown",
   "metadata": {},
   "source": [
    "# 5. Functional analysis on top markers"
   ]
  },
  {
   "cell_type": "code",
   "execution_count": null,
   "metadata": {},
   "outputs": [],
   "source": [
    "def CustomGO(adata, cluster, rank, n_markers=40,  show=10):\n",
    "    \"\"\"  \n",
    "        GO analysis with GProfiler for cluster top-marker genes.\n",
    "    \"\"\"\n",
    "    \n",
    "    GroupMarkers = pd.DataFrame(adata.uns[rank]['names']).head(n_markers)   \n",
    "    q = GroupMarkers[cluster].tolist()\n",
    "    u = adata.var_names.tolist()\n",
    "    return gp.profile(organism='hsapiens', sources=['GO:BP', 'GO:CC'], query=q, \n",
    "           background=u, no_iea=True).head(show)"
   ]
  },
  {
   "cell_type": "code",
   "execution_count": null,
   "metadata": {},
   "outputs": [],
   "source": [
    "gp = GProfiler(return_dataframe=True)"
   ]
  },
  {
   "cell_type": "code",
   "execution_count": null,
   "metadata": {},
   "outputs": [],
   "source": [
    "Cl = ['0', '1', '2', '3', '4', '5', '6', '7', '8', '9', '10']\n",
    "\n",
    "for i in Cl: \n",
    "    print(\"\\n\\n {}\".format(i)) \n",
    "    display(CustomGO(adata, cluster=i, rank=key_leiden, n_markers=40,  show=8))"
   ]
  },
  {
   "cell_type": "markdown",
   "metadata": {},
   "source": [
    "# 6. Save"
   ]
  },
  {
   "cell_type": "markdown",
   "metadata": {},
   "source": [
    "## 6.1 Save AData"
   ]
  },
  {
   "cell_type": "code",
   "execution_count": null,
   "metadata": {},
   "outputs": [],
   "source": [
    "adata.write(results_file)"
   ]
  },
  {
   "cell_type": "markdown",
   "metadata": {},
   "source": [
    "## 6.2 Timestamp finished computations "
   ]
  },
  {
   "cell_type": "code",
   "execution_count": null,
   "metadata": {},
   "outputs": [],
   "source": [
    "print(datetime.now())"
   ]
  },
  {
   "cell_type": "markdown",
   "metadata": {},
   "source": [
    "## 6.3 Save python and html versions"
   ]
  },
  {
   "cell_type": "code",
   "execution_count": null,
   "metadata": {},
   "outputs": [],
   "source": [
    "nb_fname = '4_Clusters'\n",
    "nb_fname"
   ]
  },
  {
   "cell_type": "code",
   "execution_count": null,
   "metadata": {},
   "outputs": [],
   "source": [
    "%%bash -s \"$nb_fname\"\n",
    "jupyter nbconvert \"$1\".ipynb --to=\"python\"\n",
    "jupyter nbconvert \"$1\".ipynb --to=\"html\""
   ]
  }
 ],
 "metadata": {
  "kernelspec": {
   "display_name": "Python 3 (ipykernel)",
   "language": "python",
   "name": "python3"
  },
  "language_info": {
   "codemirror_mode": {
    "name": "ipython",
    "version": 3
   },
   "file_extension": ".py",
   "mimetype": "text/x-python",
   "name": "python",
   "nbconvert_exporter": "python",
   "pygments_lexer": "ipython3",
   "version": "3.8.10"
  }
 },
 "nbformat": 4,
 "nbformat_minor": 4
}

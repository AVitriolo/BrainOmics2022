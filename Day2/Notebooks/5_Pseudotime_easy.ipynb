{
 "cells": [
  {
   "cell_type": "markdown",
   "metadata": {
    "tags": []
   },
   "source": [
    "# Mid-gestation fetal cortex dataset: Cluster identification and characterization\n",
    "\n",
    "__Upstream Steps__\n",
    "\n",
    "* QC filter on cells\n",
    "* Expression filter on genes\n",
    "* Normalization and log10 transformation by Scanpy\n",
    "* HVG by Triku\n",
    "* Integration by Harmony\n",
    "* Dimensionality reduction after integration\n",
    "* Cluster identification\n",
    "* Cluster characterization\n",
    "\n",
    "__This notebook__\n",
    "\n",
    "* Define pseudo-ordering and identify the correct way to do it\n",
    "\n"
   ]
  },
  {
   "cell_type": "markdown",
   "metadata": {},
   "source": [
    "----"
   ]
  },
  {
   "cell_type": "markdown",
   "metadata": {
    "tags": []
   },
   "source": [
    "# 1. Environment Set Up\n",
    "\n",
    "## 1.1 Library upload"
   ]
  },
  {
   "cell_type": "code",
   "execution_count": null,
   "metadata": {},
   "outputs": [],
   "source": [
    "import numpy as np\n",
    "import pandas as pd\n",
    "import scanpy as sc\n",
    "import scanpy.external as sce\n",
    "import seaborn as sns\n",
    "import igraph as ig\n",
    "from scipy.sparse import csr_matrix, isspmatrix\n",
    "from datetime import datetime\n",
    "\n",
    "from gprofiler import GProfiler"
   ]
  },
  {
   "cell_type": "code",
   "execution_count": null,
   "metadata": {},
   "outputs": [],
   "source": [
    "sc.settings.verbosity = 3\n",
    "sc.settings.set_figure_params(dpi=80)"
   ]
  },
  {
   "cell_type": "markdown",
   "metadata": {},
   "source": [
    "## 1.2 Start Computation time"
   ]
  },
  {
   "cell_type": "code",
   "execution_count": null,
   "metadata": {},
   "outputs": [],
   "source": [
    "print(datetime.now())"
   ]
  },
  {
   "cell_type": "markdown",
   "metadata": {},
   "source": [
    "## 1.3 Result file"
   ]
  },
  {
   "cell_type": "code",
   "execution_count": null,
   "metadata": {},
   "outputs": [],
   "source": [
    "#results_file = '/home/..../brainomics/Dati/4_AdataClusters.h5ad'\n",
    "#results_file = '/group/brainomics/Intermediate/5_AdataDPT.h5ad'"
   ]
  },
  {
   "cell_type": "markdown",
   "metadata": {},
   "source": [
    "----"
   ]
  },
  {
   "cell_type": "markdown",
   "metadata": {
    "tags": []
   },
   "source": [
    "# 2. Read input files  "
   ]
  },
  {
   "cell_type": "code",
   "execution_count": null,
   "metadata": {},
   "outputs": [],
   "source": [
    "adata = sc.read('/group/brainomics/Intermediate/4_AdataClusters.h5ad')"
   ]
  },
  {
   "cell_type": "code",
   "execution_count": null,
   "metadata": {},
   "outputs": [],
   "source": [
    "print('Loaded Normalizes AnnData object: number of cells', adata.n_obs)\n",
    "print('Loaded Normalizes AnnData object: number of genes', adata.n_vars)\n",
    "\n",
    "print('Available metadata for each cell: ', adata.obs.columns)"
   ]
  },
  {
   "cell_type": "markdown",
   "metadata": {},
   "source": [
    "----"
   ]
  },
  {
   "cell_type": "markdown",
   "metadata": {},
   "source": [
    "# 3. Identify root cells"
   ]
  },
  {
   "cell_type": "markdown",
   "metadata": {},
   "source": [
    "If you are considering the whole dataset, usually the a good strategy is to rely on a marker specific for your starting population. In this case, we can use markers for proliferating cells such as MKI67 and CDC20. This is system-dependent, so has to be defined for your own biological model. "
   ]
  },
  {
   "cell_type": "markdown",
   "metadata": {},
   "source": [
    "## 3.1 Check in diffusion and draw graph "
   ]
  },
  {
   "cell_type": "code",
   "execution_count": null,
   "metadata": {},
   "outputs": [],
   "source": [
    "sc.pl.draw_graph(adata,color=[\"MKI67\",\"CDC20\"])"
   ]
  },
  {
   "cell_type": "code",
   "execution_count": null,
   "metadata": {},
   "outputs": [],
   "source": [
    "sc.get.obs_df(adata,\"MKI67\").idxmax()"
   ]
  },
  {
   "cell_type": "code",
   "execution_count": null,
   "metadata": {},
   "outputs": [],
   "source": [
    "adata.obs['root']=0\n",
    "adata.obs.loc[sc.get.obs_df(adata,\"MKI67\").idxmax(),'root']=1"
   ]
  },
  {
   "cell_type": "code",
   "execution_count": null,
   "metadata": {},
   "outputs": [],
   "source": [
    "sc.pl.draw_graph(adata,color=\"root\",size=120)"
   ]
  },
  {
   "cell_type": "code",
   "execution_count": null,
   "metadata": {},
   "outputs": [],
   "source": [
    "putativeRoot = sc.get.obs_df(adata,\"CDC20\").idxmax()"
   ]
  },
  {
   "cell_type": "code",
   "execution_count": null,
   "metadata": {},
   "outputs": [],
   "source": [
    "adata.obs['root']=0\n",
    "adata.obs.loc[putativeRoot,'root']=1"
   ]
  },
  {
   "cell_type": "code",
   "execution_count": null,
   "metadata": {},
   "outputs": [],
   "source": [
    "sc.pl.draw_graph(adata,color=\"root\",size=120)"
   ]
  },
  {
   "cell_type": "code",
   "execution_count": null,
   "metadata": {},
   "outputs": [],
   "source": [
    "sc.tl.score_genes(adata,['MKI67',\"CDC20\"],score_name=\"scoreGeneRoot\")"
   ]
  },
  {
   "cell_type": "code",
   "execution_count": null,
   "metadata": {},
   "outputs": [],
   "source": [
    "putativeRoot = sc.get.obs_df(adata,\"scoreGeneRoot\").idxmax()\n",
    "adata.obs['root']=0\n",
    "adata.obs.loc[putativeRoot,'root']=1\n",
    "sc.pl.draw_graph(adata,color=\"root\",size=120)"
   ]
  },
  {
   "cell_type": "code",
   "execution_count": null,
   "metadata": {},
   "outputs": [],
   "source": [
    "sns.histplot(data=sc.get.obs_df(adata,\"CDC20\"),log=True)"
   ]
  },
  {
   "cell_type": "code",
   "execution_count": null,
   "metadata": {},
   "outputs": [],
   "source": [
    "adata.obsm.keys()"
   ]
  },
  {
   "cell_type": "code",
   "execution_count": null,
   "metadata": {},
   "outputs": [],
   "source": [
    "adata[sc.get.obs_df(adata,\"CDC20\")>2].obsm['X_draw_graph_fa'][:,1].min()"
   ]
  },
  {
   "cell_type": "code",
   "execution_count": null,
   "metadata": {},
   "outputs": [],
   "source": [
    "putativeRoot = sc.get.obs_df(adata,obsm_keys=[(\"X_draw_graph_fa\", 1)])[sc.get.obs_df(adata,\"CDC20\")>2].idxmax()\n",
    "adata.obs['root']=0\n",
    "adata.obs.loc[putativeRoot,'root']=1\n",
    "sc.pl.draw_graph(adata,color=\"root\",size=120)"
   ]
  },
  {
   "cell_type": "code",
   "execution_count": null,
   "metadata": {},
   "outputs": [],
   "source": [
    "putativeRoot[0]"
   ]
  },
  {
   "cell_type": "code",
   "execution_count": null,
   "metadata": {},
   "outputs": [],
   "source": [
    "adata.uns['iroot'] = np.flatnonzero(adata.obs_names == putativeRoot[0])[0]"
   ]
  },
  {
   "cell_type": "code",
   "execution_count": null,
   "metadata": {},
   "outputs": [],
   "source": [
    "adata.uns['iroot']"
   ]
  },
  {
   "cell_type": "markdown",
   "metadata": {},
   "source": [
    "## 3.2 diffusion pseudotime"
   ]
  },
  {
   "cell_type": "code",
   "execution_count": null,
   "metadata": {},
   "outputs": [],
   "source": [
    "sc.tl.dpt(adata,n_dcs=10)"
   ]
  },
  {
   "cell_type": "code",
   "execution_count": null,
   "metadata": {},
   "outputs": [],
   "source": [
    "sc.pl.draw_graph(adata,color=\"dpt_pseudotime\")\n",
    "sc.pl.umap(adata,color=\"dpt_pseudotime\")"
   ]
  },
  {
   "cell_type": "code",
   "execution_count": null,
   "metadata": {},
   "outputs": [],
   "source": [
    "sc.tl.paga(adata, groups='FinalLeiden')"
   ]
  },
  {
   "cell_type": "code",
   "execution_count": null,
   "metadata": {},
   "outputs": [],
   "source": [
    "def gen_mpl_labels(adata, groupby, exclude=()):\n",
    "    medians = {}\n",
    "    mediansL=[]\n",
    "\n",
    "    for g, g_idx in adata.obs.groupby(groupby).groups.items():\n",
    "        if g in exclude:\n",
    "            continue\n",
    "        medians[g] = np.median(adata[g_idx].obsm[\"X_umap\"], axis=0)\n",
    "        mediansL.append(medians[g])\n",
    "    return(medians,mediansL)"
   ]
  },
  {
   "cell_type": "code",
   "execution_count": null,
   "metadata": {},
   "outputs": [],
   "source": [
    "LeidenCentroid,LeidenCentroidList = gen_mpl_labels(adata,\"FinalLeiden\")"
   ]
  },
  {
   "cell_type": "code",
   "execution_count": null,
   "metadata": {},
   "outputs": [],
   "source": [
    "np.array(LeidenCentroidList)"
   ]
  },
  {
   "cell_type": "code",
   "execution_count": null,
   "metadata": {},
   "outputs": [],
   "source": [
    "sc.pl.umap(adata,color=\"FinalLeiden\")\n",
    "sc.pl.paga(adata, color=['FinalLeiden', 'MKI67', 'DLX5', 'NEUROD2',\"HOPX\",\"dpt_pseudotime\"],layout=\"fa\",pos=np.array(LeidenCentroidList))\n"
   ]
  },
  {
   "cell_type": "code",
   "execution_count": null,
   "metadata": {},
   "outputs": [],
   "source": [
    "sc.pl.paga_compare(\n",
    "    adata, threshold=0.03, title='', right_margin=0.2, size=10, edge_width_scale=0.5,\n",
    "    legend_fontsize=12, fontsize=12, frameon=False, edges=False, save=True)"
   ]
  },
  {
   "cell_type": "markdown",
   "metadata": {},
   "source": [
    "----"
   ]
  },
  {
   "cell_type": "markdown",
   "metadata": {},
   "source": [
    "# 4. Key neurodevelopmenta markers"
   ]
  },
  {
   "cell_type": "code",
   "execution_count": null,
   "metadata": {},
   "outputs": [],
   "source": [
    "paths = [('excitatory', [3, 9, 1, 6,2, 0, ]),\n",
    "         ('inibitory', [3, 9, 1, 6,2, 0, 8, 4]),\n",
    "         ('astrocite',[3,7])]"
   ]
  },
  {
   "cell_type": "code",
   "execution_count": null,
   "metadata": {},
   "outputs": [],
   "source": [
    "adata.obs['distance'] = adata.obs['dpt_pseudotime']"
   ]
  },
  {
   "cell_type": "code",
   "execution_count": null,
   "metadata": {},
   "outputs": [],
   "source": [
    "adata.obs['clusters'] = adata.obs['FinalLeiden']  # just a cosmetic change\n",
    "adata.uns['clusters_colors'] = adata.uns['FinalLeiden_colors']\n",
    "!mkdir write"
   ]
  },
  {
   "cell_type": "code",
   "execution_count": null,
   "metadata": {},
   "outputs": [],
   "source": [
    "'DCX', 'NEUROD2',\"HOPX\""
   ]
  },
  {
   "cell_type": "code",
   "execution_count": null,
   "metadata": {},
   "outputs": [],
   "source": [
    "gene_names = ['NEUROD2', 'NEUROD6', 'STMN2',    # exitatory neuron\n",
    " 'EOMES', 'PAX6', 'MKI67', \"GAP43\",                      # intermediat and prolifereting \n",
    " 'DLX6-AS1', 'GAD2', 'CALB2',                    # inhibitory neuron\n",
    " 'HOPX', 'GFAP']                                # astrocite"
   ]
  },
  {
   "cell_type": "code",
   "execution_count": null,
   "metadata": {},
   "outputs": [],
   "source": [
    "import matplotlib.pyplot as pl\n",
    "\n",
    "_, axs = pl.subplots(ncols=3, figsize=(6, 2.5), gridspec_kw={'wspace': 0.05, 'left': 0.12})\n",
    "pl.subplots_adjust(left=0.05, right=0.98, top=0.82, bottom=0.2)\n",
    "for ipath, (descr, path) in enumerate(paths):\n",
    "    _, data = sc.pl.paga_path(\n",
    "        adata, path, gene_names,\n",
    "        show_node_names=False,\n",
    "        ax=axs[ipath],\n",
    "        ytick_fontsize=12,\n",
    "        left_margin=0.15,\n",
    "        n_avg=50,\n",
    "        annotations=['distance'],\n",
    "        show_yticks=True if ipath==0 else False,\n",
    "        show_colorbar=False,\n",
    "        color_map='Greys',\n",
    "        groups_key='clusters',\n",
    "        color_maps_annotations={'distance': 'viridis'},\n",
    "        title='{} path'.format(descr),\n",
    "        return_data=True,\n",
    "        show=False)\n",
    "    data.to_csv('./write/paga_path_{}.csv'.format(descr))\n",
    "pl.savefig('./figures/paga_path_paul15.pdf')\n",
    "pl.show()"
   ]
  },
  {
   "cell_type": "markdown",
   "metadata": {},
   "source": [
    "# 5. Save"
   ]
  },
  {
   "cell_type": "markdown",
   "metadata": {},
   "source": [
    "## 5.1 Save AData"
   ]
  },
  {
   "cell_type": "code",
   "execution_count": null,
   "metadata": {},
   "outputs": [],
   "source": [
    "adata.write(results_file)"
   ]
  },
  {
   "cell_type": "markdown",
   "metadata": {},
   "source": [
    "## 5.2 Timestamp finished computations "
   ]
  },
  {
   "cell_type": "code",
   "execution_count": null,
   "metadata": {},
   "outputs": [],
   "source": [
    "print(datetime.now())"
   ]
  },
  {
   "cell_type": "markdown",
   "metadata": {},
   "source": [
    "## 5.3 Save python and html versions"
   ]
  },
  {
   "cell_type": "code",
   "execution_count": null,
   "metadata": {},
   "outputs": [],
   "source": [
    "nb_fname = '5_Pseudotime_easy'\n",
    "nb_fname"
   ]
  },
  {
   "cell_type": "code",
   "execution_count": null,
   "metadata": {},
   "outputs": [],
   "source": [
    "%%bash -s \"$nb_fname\"\n",
    "jupyter nbconvert \"$1\".ipynb --to=\"python\"\n",
    "jupyter nbconvert \"$1\".ipynb --to=\"html\""
   ]
  }
 ],
 "metadata": {
  "kernelspec": {
   "display_name": "Python 3 (ipykernel)",
   "language": "python",
   "name": "python3"
  },
  "language_info": {
   "codemirror_mode": {
    "name": "ipython",
    "version": 3
   },
   "file_extension": ".py",
   "mimetype": "text/x-python",
   "name": "python",
   "nbconvert_exporter": "python",
   "pygments_lexer": "ipython3",
   "version": "3.8.10"
  },
  "vscode": {
   "interpreter": {
    "hash": "916dbcbb3f70747c44a77c7bcd40155683ae19c65e1c03b4aa3499c5328201f1"
   }
  }
 },
 "nbformat": 4,
 "nbformat_minor": 4
}
